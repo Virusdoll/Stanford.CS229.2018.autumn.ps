{
 "cells": [
  {
   "cell_type": "markdown",
   "id": "eda6f2d1-f55e-45ba-96ca-e5be1ac2d533",
   "metadata": {},
   "source": [
    "# (a)"
   ]
  },
  {
   "cell_type": "markdown",
   "id": "7cd7889e-8aeb-4d02-bbab-411163122bfd",
   "metadata": {},
   "source": [
    "\\begin{align*}\n",
    "\\ell_{\\text{semi-sup}}(\\theta^{(t+1)})\n",
    "= & \\ \\ell_\\text{unsup}(\\theta^{(t+1)}) + \\alpha \\ell_\\text{sup}(\\theta^{(t+1)}) \\\\\n",
    "= & \\ \\sum^m_{i=1} \\log \\sum_{z^{(i)}} p(x^{(i)}, z^{(i)}; \\theta^{(t+1)}) + \\alpha \\sum^{\\tilde{m}}_{i=1} \\log p(\\tilde{x}^{(i)}, \\tilde{z}^{(i)}; \\theta^{(t+1)}) \\\\\n",
    "= & \\ \\sum^m_{i=1} \\log \\sum_{z^{(i)}} Q^{(t)}_i (z^{(i)}) \\frac { p(x^{(i)}, z^{(i)}; \\theta^{(t+1)}) } {Q^{(t)}_i (z^{(i)})} + \\alpha \\sum^{\\tilde{m}}_{i=1} \\log p(\\tilde{x}^{(i)}, \\tilde{z}^{(i)}; \\theta^{(t+1)}) \\\\\n",
    "= & \\ \\sum^m_{i=1} \\log \\mathbb{E} \\big( \\frac { p(x^{(i)}, z^{(i)}; \\theta^{(t+1)}) } {Q^{(t)}_i (z^{(i)})} \\big) + \\alpha \\sum^{\\tilde{m}}_{i=1} \\log p(\\tilde{x}^{(i)}, \\tilde{z}^{(i)}; \\theta^{(t+1)}) \\\\\n",
    "\\ge & \\ \\sum^m_{i=1} \\mathbb{E} \\big( \\log \\frac { p(x^{(i)}, z^{(i)}; \\theta^{(t+1)}) } {Q^{(t)}_i (z^{(i)})} \\big) + \\alpha \\sum^{\\tilde{m}}_{i=1} \\log p(\\tilde{x}^{(i)}, \\tilde{z}^{(i)}; \\theta^{(t+1)}) \\\\\n",
    "= & \\ \\sum^m_{i=1} \\sum_{z^{(i)}} Q^{(t)}_i (z^{(i)}) \\log \\frac { p(x^{(i)}, z^{(i)}; \\theta^{(t+1)}) } {Q^{(t)}_i (z^{(i)})} + \\alpha \\sum^{\\tilde{m}}_{i=1} \\log p(\\tilde{x}^{(i)}, \\tilde{z}^{(i)}; \\theta^{(t+1)}) \\\\\n",
    "\\ge & \\ \\sum^m_{i=1} \\sum_{z^{(i)}} Q^{(t)}_i (z^{(i)}) \\log \\frac { p(x^{(i)}, z^{(i)}; \\theta^{(t)}) } {Q^{(t)}_i (z^{(i)})} + \\alpha \\sum^{\\tilde{m}}_{i=1} \\log p(\\tilde{x}^{(i)}, \\tilde{z}^{(i)}; \\theta^{(t)}) \\\\\n",
    "= & \\ \\ell_\\text{unsup}(\\theta^{(t)}) + \\alpha \\ell_\\text{sup}(\\theta^{(t)}) \\\\\n",
    "= & \\ \\ell_{\\text{semi-sup}}(\\theta^{(t)}) \\\\\n",
    "\\end{align*}"
   ]
  },
  {
   "cell_type": "markdown",
   "id": "d81fc06b-a747-4192-aaa0-7a7c043be6b3",
   "metadata": {},
   "source": [
    "# (b)"
   ]
  },
  {
   "cell_type": "markdown",
   "id": "3e0c1e4a-f799-414e-8e47-035e9cd5ba5d",
   "metadata": {},
   "source": [
    "we have:\n",
    "\n",
    "$$\n",
    "p(x^{(i)} | z^{(i)}=j; \\mu_j, \\Sigma_j) = \\big( (2 \\pi)^{\\frac {n} {2}} |\\Sigma_j|^{\\frac {1} {2}} \\big)^{-1} \\exp \\big( - \\frac {1} {2} (x^{(i)} - \\mu_j)^T \\Sigma^{-1}_j (x^{(i)} - \\mu_j) \\big) \\\\\n",
    "p(z^{(i)}=j ; \\phi) = \\phi_j \\\\\n",
    "$$\n",
    "\n",
    "for $Q^{(t)}_i (z^{(i)}=j)$:\n",
    "\n",
    "\\begin{align*}\n",
    "Q^{(t)}_i (z^{(i)}=j)\n",
    ":= & \\ p(z^{(i)}=j | x^{(i)}; \\phi, \\mu_j, \\Sigma_j) \\\\\n",
    "= & \\ \\frac {p(x^{(i)} | z^{(i)}=j; \\mu_j, \\Sigma_j) p(z^{(i)}=j ; \\phi)} {\\sum_j p(x^{(i)} | z^{(i)}=j; \\mu_j, \\Sigma_j) p(z^{(i)}=j ; \\phi)} \\\\\n",
    "= & \\ \\frac { \\big( (2 \\pi)^{\\frac {n} {2}} |\\Sigma_j|^{\\frac {1} {2}} \\big)^{-1} \\exp \\big( - \\frac {1} {2} (x^{(i)} - \\mu_j)^T \\Sigma^{-1}_j (x^{(i)} - \\mu_j) \\big) \\phi_j} {\\sum_j \\big( (2 \\pi)^{\\frac {n} {2}} |\\Sigma_j|^{\\frac {1} {2}} \\big)^{-1} \\exp \\big( - \\frac {1} {2} (x^{(i)} - \\mu_j)^T \\Sigma^{-1}_j (x^{(i)} - \\mu_j) \\big) \\phi_j} \\\\\n",
    "= & \\ \\frac { \\big( |\\Sigma_j|^{\\frac {1} {2}} \\big)^{-1} \\exp \\big( - \\frac {1} {2} (x^{(i)} - \\mu_j)^T \\Sigma^{-1}_j (x^{(i)} - \\mu_j) \\big) \\phi_j} {\\sum_j \\big( |\\Sigma_j|^{\\frac {1} {2}} \\big)^{-1} \\exp \\big( - \\frac {1} {2} (x^{(i)} - \\mu_j)^T \\Sigma^{-1}_j (x^{(i)} - \\mu_j) \\big) \\phi_j} \\\\\n",
    "\\end{align*}"
   ]
  },
  {
   "cell_type": "markdown",
   "id": "c88d1766-c91d-499b-9f32-06b0cdff0d4f",
   "metadata": {},
   "source": [
    "# (c)"
   ]
  },
  {
   "cell_type": "markdown",
   "id": "fbcf7d58-d17c-4ef1-a4fd-f24325a1b656",
   "metadata": {},
   "source": [
    "let\n",
    "\n",
    "$$\n",
    "w^{(i)}_j = Q^{(t)}_i (z^{(i)}=j) \\\\\n",
    "$$"
   ]
  },
  {
   "cell_type": "markdown",
   "id": "dbf11625-289f-47af-9291-849d50427cd4",
   "metadata": {},
   "source": [
    "for $\\ell_\\text{unsup}$:\n",
    "\n",
    "\\begin{align*}\n",
    "\\ell_\\text{unsup}\n",
    "= & \\ \\sum^m_{i=1} \\sum_j w^{(i)}_j \\log \\frac { p(x^{(i)}, z^{(i)}=j; \\mu^{(t)}_j, \\Sigma^{(t)}_j, \\phi^{(t)}) } {w^{(i)}_j} \\\\\n",
    "= & \\ \\sum^m_{i=1} \\sum_j w^{(i)}_j \\log \\frac { p(x^{(i)} | z^{(i)}=j; \\mu^{(t)}_j, \\Sigma^{(t)}_j) p(z^{(i)}=j; \\phi^{(t)}) } {w^{(i)}_j} \\\\\n",
    "= & \\ \\sum^m_{i=1} \\sum_j w^{(i)}_j \\log\n",
    "\\frac {\\big( (2 \\pi)^{\\frac {n} {2}} |\\Sigma^{(t)}_j|^{\\frac {1} {2}} \\big)^{-1} \\exp \\big( - \\frac {1} {2} (x^{(i)} - \\mu^{(t)}_j)^T (\\Sigma^{(t)}_j)^{-1} (x^{(i)} - \\mu^{(t)}_j) \\big) \\phi^{(t)}_j} {w^{(i)}_j} \\\\\n",
    "\\end{align*}"
   ]
  },
  {
   "cell_type": "markdown",
   "id": "f1c082a3-86d0-4b2d-81cd-2ba5c365c2c2",
   "metadata": {},
   "source": [
    "for $\\ell_\\text{sup}$:\n",
    "\n",
    "\\begin{align*}\n",
    "\\ell_\\text{sup}\n",
    "= & \\ \\sum^{\\tilde{m}}_{i=1} \\log p(\\tilde{x}^{(i)}, \\tilde{z}^{(i)}; \\mu^{(t)}_j, \\Sigma^{(t)}_j, \\phi^{(t)}) \\\\\n",
    "= & \\ \\sum^{\\tilde{m}}_{i=1} \\log \\big( \\sum_j p(\\tilde{x}^{(i)} | \\tilde{z}^{(i)}=j; \\mu^{(t)}_j, \\Sigma^{(t)}_j) p(\\tilde{z}^{(i)}=j; \\phi^{(t)}) \\big) \\\\\n",
    "= & \\ \\sum^{\\tilde{m}}_{i=1} \\log \\big( \\sum_j 1\\{\\tilde{z}^{(i)}=j\\} p(\\tilde{x}^{(i)} | \\tilde{z}^{(i)}=j; \\mu^{(t)}_j, \\Sigma^{(t)}_j) p(\\tilde{z}^{(i)}=j; \\phi^{(t)}) \\big) \\\\\n",
    "= & \\ \\sum^{\\tilde{m}}_{i=1} \\sum_j 1\\{\\tilde{z}^{(i)}=j\\} \\log \\big( p(\\tilde{x}^{(i)} | \\tilde{z}^{(i)}=j; \\mu^{(t)}_j, \\Sigma^{(t)}_j) p(\\tilde{z}^{(i)}=j; \\phi^{(t)}) \\big) \\\\\n",
    "= & \\ \\sum^{\\tilde{m}}_{i=1} \\sum_j 1\\{\\tilde{z}^{(i)}=j\\} \\log \\Big( \\big( (2 \\pi)^{\\frac {n} {2}} |\\Sigma^{(t)}_j|^{\\frac {1} {2}} \\big)^{-1} \\exp \\big( - \\frac {1} {2} (\\tilde{x}^{(i)} - \\mu^{(t)}_j)^T (\\Sigma^{(t)}_j)^{-1} (\\tilde{x}^{(i)} - \\mu^{(t)}_j) \\big) \\phi^{(t)}_j \\Big) \\\\\n",
    "\\end{align*}"
   ]
  },
  {
   "cell_type": "markdown",
   "id": "01a2f11b-1654-4aeb-9d48-fdcd158adf95",
   "metadata": {},
   "source": [
    "for $\\bigtriangledown_{\\mu_l} \\ell_\\text{unsup}$:\n",
    "\n",
    "\\begin{align*}\n",
    "\\bigtriangledown_{\\mu_l} \\ell_\\text{unsup}\n",
    "= & \\ \\bigtriangledown_{\\mu_l} \\sum^m_{i=1} \\sum_j w^{(i)}_j (- \\frac {1} {2}) (x^{(i)} - \\mu^{(t)}_j)^T (\\Sigma^{(t)}_j)^{-1} (x^{(i)} - \\mu^{(t)}_j) \\\\\n",
    "= & \\ \\sum^m_{i=1} w^{(i)}_l (\\Sigma^{(t)}_l)^{-1} (x^{(i)} - \\mu^{(t)}_l) \\\\\n",
    "\\end{align*}"
   ]
  },
  {
   "cell_type": "markdown",
   "id": "eb367fc9",
   "metadata": {},
   "source": [
    "for $\\bigtriangledown_{\\mu_l} \\ell_\\text{sup}$:\n",
    "\n",
    "\\begin{align*}\n",
    "\\bigtriangledown_{\\mu_l} \\ell_\\text{sup}\n",
    "= & \\ \\bigtriangledown_{\\mu_l} \\sum^{\\tilde{m}}_{i=1} \\sum_j 1\\{\\tilde{z}^{(i)}=j\\} ( - \\frac {1} {2} ) (\\tilde{x}^{(i)} - \\mu^{(t)}_j)^T (\\Sigma^{(t)}_j)^{-1} (\\tilde{x}^{(i)} - \\mu^{(t)}_j) \\\\\n",
    "= & \\ \\sum^{\\tilde{m}}_{i=1} 1\\{\\tilde{z}^{(i)}=l\\} (\\Sigma^{(t)}_l)^{-1} (\\tilde{x}^{(i)} - \\mu^{(t)}_l) \\\\\n",
    "\\end{align*}"
   ]
  },
  {
   "cell_type": "markdown",
   "id": "318d18cb",
   "metadata": {},
   "source": [
    "let $\\bigtriangledown_{\\mu_l} \\ell_\\text{semi-sup} = 0$:\n",
    "\n",
    "\\begin{align*}\n",
    "\\bigtriangledown_{\\mu_l} \\ell_\\text{semi-sup} = & \\ 0 \\\\\n",
    "0 = & \\ \\bigtriangledown_{\\mu_l} \\ell_\\text{unsup} + \\alpha \\bigtriangledown_{\\mu_l} \\ell_\\text{sup} \\\\\n",
    "0 = & \\ \\sum^m_{i=1} w^{(i)}_l (\\Sigma^{(t)}_l)^{-1} (x^{(i)} - \\mu^{(t)}_l) + \\alpha \\sum^{\\tilde{m}}_{i=1} 1\\{\\tilde{z}^{(i)}=l\\} (\\Sigma^{(t)}_l)^{-1} (\\tilde{x}^{(i)} - \\mu^{(t)}_l) \\\\\n",
    "\\mu^{(t+1)}_l = & \\ \\frac {\\sum^m_{i=1} w^{(i)}_l x^{(i)} + \\alpha \\sum^{\\tilde{m}}_{i=1} 1\\{\\tilde{z}^{(i)}=l\\} \\tilde{x}^{(i)}} {\\sum^m_{i=1} w^{(i)}_l + \\alpha \\sum^{\\tilde{m}}_{i=1} 1\\{\\tilde{z}^{(i)}=l\\} } \\\\\n",
    "\\end{align*}"
   ]
  },
  {
   "cell_type": "markdown",
   "id": "058b2319-28a8-4bcd-a771-b236478838af",
   "metadata": {},
   "source": [
    "for $\\bigtriangledown_{\\Sigma_l} \\ell_\\text{unsup}$:\n",
    "\n",
    "\\begin{align*}\n",
    "\\bigtriangledown_{\\Sigma_l} \\ell_\\text{unsup}\n",
    "= & \\ \\bigtriangledown_{\\Sigma_l} \\sum^m_{i=1} \\sum_j w^{(i)}_j \\big( - \\frac {1} {2} \\log |\\Sigma^{(t)}_j| - \\frac {1} {2} (x^{(i)} - \\mu^{(t)}_j)^T (\\Sigma^{(t)}_j)^{-1} (x^{(i)} - \\mu^{(t)}_j) \\big) \\\\\n",
    "= & \\ \\sum^m_{i=1} w^{(i)}_l \\big( - \\frac {1} {2} (\\Sigma^{(t)}_l)^{-1} - \\frac {1} {2} \\bigtriangledown_{\\Sigma_l} \\text{tr} (x^{(i)} - \\mu^{(t)}_l)^T (\\Sigma^{(t)}_l)^{-1} (x^{(i)} - \\mu^{(t)}_l) \\big) \\\\\n",
    "= & \\ \\sum^m_{i=1} w^{(i)}_l \\big( - \\frac {1} {2} (\\Sigma^{(t)}_l)^{-1} - \\frac {1} {2} \\bigtriangledown_{\\Sigma_l} \\text{tr} (x^{(i)} - \\mu^{(t)}_l) (x^{(i)} - \\mu^{(t)}_l)^T (\\Sigma^{(t)}_l)^{-1} \\big) \\\\\n",
    "= & \\ \\sum^m_{i=1} w^{(i)}_l \\big( - \\frac {1} {2} (\\Sigma^{(t)}_l)^{-1} + \\frac {1} {2} (x^{(i)} - \\mu^{(t)}_l) (x^{(i)} - \\mu^{(t)}_l)^T (\\Sigma^{(t)}_l)^{-2} \\big) \\\\\n",
    "\\end{align*}"
   ]
  },
  {
   "cell_type": "markdown",
   "id": "06e973e7",
   "metadata": {},
   "source": [
    "for $\\bigtriangledown_{\\Sigma_l} \\ell_\\text{sup}$:\n",
    "\n",
    "\\begin{align*}\n",
    "\\bigtriangledown_{\\Sigma_l} \\ell_\\text{sup}\n",
    "= & \\ \\bigtriangledown_{\\Sigma_l} \\sum^{\\tilde{m}}_{i=1} \\sum_j 1\\{\\tilde{z}^{(i)}=j\\} \\big( - \\frac {1} {2} \\log |\\Sigma^{(t)}_j| - \\frac {1} {2} (\\tilde{x}^{(i)} - \\mu^{(t)}_j)^T (\\Sigma^{(t)}_j)^{-1} (\\tilde{x}^{(i)} - \\mu^{(t)}_j) \\big) \\\\\n",
    "= & \\ \\sum^{\\tilde{m}}_{i=1} 1\\{\\tilde{z}^{(i)}=l\\} \\big( - \\frac {1} {2} (\\Sigma^{(t)}_l)^{-1} + \\frac {1} {2} (\\tilde{x}^{(i)} - \\mu^{(t)}_l) (\\tilde{x}^{(i)} - \\mu^{(t)}_l)^T (\\Sigma^{(t)}_l)^{-2} \\big) \\\\\n",
    "\\end{align*}"
   ]
  },
  {
   "cell_type": "markdown",
   "id": "d0db7a27",
   "metadata": {},
   "source": [
    "let $\\bigtriangledown_{\\Sigma_l} \\ell_\\text{semi-sup} = 0$:\n",
    "\n",
    "\\begin{align*}\n",
    "\\bigtriangledown_{\\Sigma_l} \\ell_\\text{semi-sup} = & \\ 0 \\\\\n",
    "0 = & \\ \\bigtriangledown_{\\Sigma_l} \\ell_\\text{unsup} + \\alpha \\bigtriangledown_{\\Sigma_l} \\ell_\\text{sup} \\\\\n",
    "0 = & \\ \\sum^m_{i=1} w^{(i)}_l \\big( - \\frac {1} {2} (\\Sigma^{(t)}_l)^{-1} + \\frac {1} {2} (x^{(i)} - \\mu^{(t)}_l) (x^{(i)} - \\mu^{(t)}_l)^T (\\Sigma^{(t)}_l)^{-2} \\big) \\\\\n",
    "& \\ + \\alpha \\sum^{\\tilde{m}}_{i=1} 1\\{\\tilde{z}^{(i)}=l\\} \\big( - \\frac {1} {2} (\\Sigma^{(t)}_l)^{-1} + \\frac {1} {2} (\\tilde{x}^{(i)} - \\mu^{(t)}_l) (\\tilde{x}^{(i)} - \\mu^{(t)}_l)^T (\\Sigma^{(t)}_l)^{-2} \\big) \\\\\n",
    "\\Sigma^{(t+1)}_l\n",
    "= & \\ \\frac {\\sum^m_{i=1} w^{(i)}_l (x^{(i)} - \\mu^{(t)}_l) (x^{(i)} - \\mu^{(t)}_l)^T + \\alpha \\sum^{\\tilde{m}}_{i=1} 1\\{\\tilde{z}^{(i)}=l\\} (\\tilde{x}^{(i)} - \\mu^{(t)}_l) (\\tilde{x}^{(i)} - \\mu^{(t)}_l)^T } {\\sum^m_{i=1} w^{(i)}_l + \\alpha \\sum^{\\tilde{m}}_{i=1} 1\\{\\tilde{z}^{(i)}=l\\} } \\\\\n",
    "\\end{align*}"
   ]
  },
  {
   "cell_type": "markdown",
   "id": "e04df9ca-2471-44c9-b666-f4cce0396909",
   "metadata": {},
   "source": [
    "for $\\bigtriangledown_{\\phi_l} \\ell_\\text{unsup}$:\n",
    "\n",
    "\\begin{align*}\n",
    "\\bigtriangledown_{\\phi_l} \\ell_\\text{unsup}\n",
    "= & \\ \\bigtriangledown_{\\phi_l} \\sum^m_{i=1} \\sum_j w^{(i)}_j \\log \\phi_j \\\\\n",
    "= & \\ \\sum^m_{i=1} w^{(i)}_l \\phi^{-1}_l \\\\\n",
    "\\end{align*}\n",
    "\n",
    "for $\\bigtriangledown_{\\phi_l} \\ell_\\text{sup}$:\n",
    "\n",
    "\\begin{align*}\n",
    "\\bigtriangledown_{\\phi_l} \\ell_\\text{sup}\n",
    "= & \\ \\bigtriangledown_{\\phi_l} \\sum^{\\tilde{m}}_{i=1} \\sum_j 1 \\{ \\tilde{z}^{(i)}=j \\} \\log \\phi_j \\\\\n",
    "= & \\ \\sum^m_{i=1} 1 \\{ \\tilde{z}^{(i)}=l \\} \\phi^{-1}_l \\\\\n",
    "\\end{align*}"
   ]
  },
  {
   "cell_type": "markdown",
   "id": "681e1ccb-c9e7-4f04-843d-8d4409275bcf",
   "metadata": {},
   "source": [
    "create $\\mathcal{L}(\\phi)$:\n",
    "\n",
    "$$\n",
    "\\mathcal{L}(\\phi) = \\ell_\\text{unsup} + \\alpha \\ell_\\text{sup} -\\beta(\\sum_j \\phi_j - 1) \\\\\n",
    "\\bigtriangledown_{\\phi_l} \\mathcal{L}(\\phi) = \\sum^m_{i=1} w^{(i)}_l \\phi^{-1}_l + \\alpha \\sum^m_{i=1} 1 \\{ \\tilde{z}^{(i)}=l \\} \\phi^{-1}_l - \\beta \\\\\n",
    "\\bigtriangledown_\\beta \\mathcal{L}(\\phi) = 1 - \\sum_j \\phi_j \\\\\n",
    "$$"
   ]
  },
  {
   "cell_type": "markdown",
   "id": "3deda1cc-9a6b-4814-9824-d6f1302a2e5e",
   "metadata": {},
   "source": [
    "let $\\bigtriangledown_{\\phi_l} \\mathcal{L}(\\phi) = 0$:\n",
    "\n",
    "\\begin{align*}\n",
    "\\bigtriangledown_{\\phi_l} \\mathcal{L}(\\phi) & = 0 \\\\\n",
    "\\beta \\phi_l & = \\sum^m_{i=1} w^{(i)}_l + \\alpha \\sum^m_{i=1} 1 \\{ \\tilde{z}^{(i)}=l \\} \\\\\n",
    "\\phi_l & = \\big(\\sum^m_{i=1} w^{(i)}_l + \\alpha \\sum^m_{i=1} 1 \\{ \\tilde{z}^{(i)}=l \\}\\big) \\beta^{-1} \\\\\n",
    "\\end{align*}"
   ]
  },
  {
   "cell_type": "markdown",
   "id": "d0f32a57",
   "metadata": {},
   "source": [
    "let $\\bigtriangledown_\\beta \\mathcal{L}(\\phi) = 0$:\n",
    "\n",
    "\\begin{align*}\n",
    "\\bigtriangledown_\\beta \\mathcal{L}(\\phi) & = 0 \\\\\n",
    "1 & = \\sum_j \\phi_j \\\\\n",
    "1 & = \\sum_j \\big(\\sum^m_{i=1} w^{(i)}_j + \\alpha \\sum^m_{i=1} 1 \\{ \\tilde{z}^{(i)}=j \\}\\big) \\beta^{-1} \\\\\n",
    "\\beta & = \\sum_j \\big(\\sum^m_{i=1} w^{(i)}_j + \\alpha \\sum^m_{i=1} 1 \\{ \\tilde{z}^{(i)}=j \\}\\big) \\\\\n",
    "\\end{align*}"
   ]
  },
  {
   "cell_type": "markdown",
   "id": "3c5ba743",
   "metadata": {},
   "source": [
    "then,\n",
    "\n",
    "$$\n",
    "\\phi^{(t+1)}_l = \\frac {\\sum^m_{i=1} w^{(i)}_l + \\alpha \\sum^m_{i=1} 1 \\{ \\tilde{z}^{(i)}=l \\}} {\\sum_j \\big(\\sum^m_{i=1} w^{(i)}_j + \\alpha \\sum^m_{i=1} 1 \\{ \\tilde{z}^{(i)}=j \\}\\big)}\n",
    "$$"
   ]
  },
  {
   "cell_type": "markdown",
   "id": "88ec9973",
   "metadata": {},
   "source": [
    "# (d)"
   ]
  },
  {
   "cell_type": "markdown",
   "id": "ceb69731",
   "metadata": {},
   "source": [
    "p04_pred_0.png\n",
    "\n",
    "iteration number: 118\n",
    "\n",
    "![p04_pred_0](src/output/p04_pred_0.png)"
   ]
  },
  {
   "cell_type": "markdown",
   "id": "ed71a928",
   "metadata": {},
   "source": [
    "p04_pred_1.png\n",
    "\n",
    "iteration number: 119\n",
    "\n",
    "![p04_pred_1](src/output/p04_pred_1.png)"
   ]
  },
  {
   "cell_type": "markdown",
   "id": "96b168af",
   "metadata": {},
   "source": [
    "p04_pred_2.png\n",
    "\n",
    "iteration number: 105\n",
    "\n",
    "![p04_pred_2](src/output/p04_pred_2.png)"
   ]
  },
  {
   "cell_type": "markdown",
   "id": "1cbe7aed",
   "metadata": {},
   "source": [
    "# (e)"
   ]
  },
  {
   "cell_type": "markdown",
   "id": "46a2889d",
   "metadata": {},
   "source": [
    "p04_pred_ss_0.png\n",
    "\n",
    "iteration number: 22\n",
    "\n",
    "![p04_pred_ss_0](src/output/p04_pred_ss_0.png)"
   ]
  },
  {
   "cell_type": "markdown",
   "id": "3ee20c96",
   "metadata": {},
   "source": [
    "p04_pred_ss_1.png\n",
    "\n",
    "iteration number: 36\n",
    "\n",
    "![p04_pred_ss_1](src/output/p04_pred_ss_1.png)"
   ]
  },
  {
   "cell_type": "markdown",
   "id": "0d7f8386",
   "metadata": {},
   "source": [
    "p04_pred_ss_2.png\n",
    "\n",
    "iteration number: 33\n",
    "\n",
    "![p04_pred_ss_2](src/output/p04_pred_ss_2.png)"
   ]
  },
  {
   "cell_type": "markdown",
   "id": "79ded4d8",
   "metadata": {},
   "source": [
    "# (f)"
   ]
  },
  {
   "cell_type": "markdown",
   "id": "66f8c14e",
   "metadata": {},
   "source": [
    "## i"
   ]
  },
  {
   "cell_type": "markdown",
   "id": "5899a1d9",
   "metadata": {},
   "source": [
    "Unsupervised EM takes more iteration number to converge."
   ]
  },
  {
   "cell_type": "markdown",
   "id": "aa00d99b",
   "metadata": {},
   "source": [
    "## ii"
   ]
  },
  {
   "cell_type": "markdown",
   "id": "e04fdae9",
   "metadata": {},
   "source": [
    "Semi-supervised EM are more stable than unsupervised EM.\n",
    "\n",
    "When started with different random initializations, unsupervised EM will change its assignments. But semi-supervised EM will keep its assignments same."
   ]
  },
  {
   "cell_type": "markdown",
   "id": "83ae04ab",
   "metadata": {},
   "source": [
    "## iii"
   ]
  },
  {
   "cell_type": "markdown",
   "id": "8327d77f",
   "metadata": {},
   "source": [
    "The assignments quality of semi-supervised EM is better than unsupervised EM.\n",
    "\n",
    "Semi-supervised EM can find three low-variance Gaussian distributions with one high-variance Gaussian distribution. Unsupervised EM can only find two low-variance Gaussian distributions with two high-variance Gaussian distributions."
   ]
  },
  {
   "cell_type": "code",
   "execution_count": null,
   "id": "c848eba9",
   "metadata": {},
   "outputs": [],
   "source": []
  }
 ],
 "metadata": {
  "kernelspec": {
   "display_name": "Python 3",
   "language": "python",
   "name": "python3"
  },
  "language_info": {
   "codemirror_mode": {
    "name": "ipython",
    "version": 3
   },
   "file_extension": ".py",
   "mimetype": "text/x-python",
   "name": "python",
   "nbconvert_exporter": "python",
   "pygments_lexer": "ipython3",
   "version": "3.9.2"
  }
 },
 "nbformat": 4,
 "nbformat_minor": 5
}
