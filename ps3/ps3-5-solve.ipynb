{
 "cells": [
  {
   "cell_type": "markdown",
   "id": "85ab9f44",
   "metadata": {},
   "source": [
    "# (a)"
   ]
  },
  {
   "cell_type": "markdown",
   "id": "883a4945",
   "metadata": {},
   "source": [
    "peppers-large.png\n",
    "\n",
    "![peppers-large-compressed.png](src/output/peppers-large.png)"
   ]
  },
  {
   "cell_type": "markdown",
   "id": "89ef24d5",
   "metadata": {},
   "source": [
    "peppers-large-compressed.png\n",
    "\n",
    "![peppers-large-compressed.png](src/output/peppers-large-compressed.png)"
   ]
  },
  {
   "cell_type": "markdown",
   "id": "d65d3a02",
   "metadata": {},
   "source": [
    "peppers-small.png\n",
    "\n",
    "![peppers-large-compressed.png](src/output/peppers-small.png)"
   ]
  },
  {
   "cell_type": "markdown",
   "id": "620df91c",
   "metadata": {},
   "source": [
    "# (b)"
   ]
  },
  {
   "cell_type": "markdown",
   "id": "b8435ada",
   "metadata": {},
   "source": [
    "After compressed, each pixel has only 16 colors, that means image represented in 4-bit color.($\\log_2 16 = 4$)\n",
    "\n",
    "$\\frac {24} {4} = 6$, so the factor is 6."
   ]
  }
 ],
 "metadata": {
  "kernelspec": {
   "display_name": "Python 3",
   "language": "python",
   "name": "python3"
  },
  "language_info": {
   "codemirror_mode": {
    "name": "ipython",
    "version": 3
   },
   "file_extension": ".py",
   "mimetype": "text/x-python",
   "name": "python",
   "nbconvert_exporter": "python",
   "pygments_lexer": "ipython3",
   "version": "3.9.2"
  }
 },
 "nbformat": 4,
 "nbformat_minor": 5
}
