{
 "cells": [
  {
   "cell_type": "markdown",
   "id": "def17c4b-5c1c-44b3-8225-460bb59b82dd",
   "metadata": {},
   "source": [
    "# (a)"
   ]
  },
  {
   "cell_type": "markdown",
   "id": "c2a1bb92-89a2-44e9-a97d-9aff8cd8dc25",
   "metadata": {},
   "source": [
    "\\begin{align*}\n",
    "D_{KL}(P \\parallel Q)\n",
    "& = \\sum_{x \\in \\mathcal{X}} P(x) \\log \\frac {P(x)} {Q(x)} \\\\\n",
    "& = \\sum_{x \\in \\mathcal{X}} P(x) ( - \\log \\frac {Q(x)} {P(x)} ) \\\\\n",
    "& = E[- \\log \\frac {Q(x)} {P(x)}] \\\\\n",
    "& \\geq - \\log E [\\frac {Q(x)} {P(x)}] \\\\\n",
    "& = - \\log \\sum_{x \\in \\mathcal{X}} P(x) \\frac {Q(x)} {P(x)} \\\\\n",
    "& = - \\log \\sum_{x \\in \\mathcal{X}} Q(x) \\\\\n",
    "& = - \\log 1 \\\\\n",
    "& = 0\n",
    "\\end{align*}"
   ]
  },
  {
   "cell_type": "markdown",
   "id": "0c1cfe21-4058-4a2f-bb2f-4757d7599bcd",
   "metadata": {},
   "source": [
    "Beacuse $f(x) = - \\log x$ is strictly convex, then\n",
    "\n",
    "\\begin{align*}\n",
    "D_{KL}(P \\parallel Q) & = 0 \\\\\n",
    "E[- \\log \\frac {Q(x)} {P(x)}] & = - \\log E [\\frac {Q(x)} {P(x)}]\n",
    "\\end{align*}\n",
    "\n",
    "implies that\n",
    "\n",
    "\\begin{align*}\n",
    "\\frac {Q(x)} {P(x)}\n",
    "& = E [\\frac {Q(x)} {P(x)}] \\\\\n",
    "\\frac {Q(x)} {P(x)}\n",
    "& = \\sum_{x \\in \\mathcal{x}} P(x) \\frac {Q(x)} {P(x)} \\\\\n",
    "\\frac {Q(x)} {P(x)}\n",
    "& = \\sum_{x \\in \\mathcal{x}} Q(x) \\\\\n",
    "\\frac {Q(x)} {P(x)} & = 1 \\\\\n",
    "Q(x) & = P(x) \\\\\n",
    "\\end{align*}"
   ]
  },
  {
   "cell_type": "markdown",
   "id": "3d36f4aa-b5ab-4057-9723-6a28cf7509f9",
   "metadata": {},
   "source": [
    "# (b)"
   ]
  },
  {
   "cell_type": "markdown",
   "id": "4a12ecbf-f3ba-4ac9-97ce-c647a054f75a",
   "metadata": {},
   "source": [
    "\\begin{align*}\n",
    "D_{KL}(P(X,Y) \\parallel Q(X,Y))\n",
    "= & \\sum_x \\sum_y P(x,y) \\log \\frac {P(x,y)} {Q(x,y)} \\\\\n",
    "= & \\sum_x \\sum_y P(y|x) P(x) \\log \\frac {P(y|x)P(x)} {Q(y|x)Q(x)} \\\\\n",
    "= & \\sum_x \\sum_y P(y|x) P(x) \\log \\frac {P(x)} {Q(x)} \\\\\n",
    "& + \\sum_x \\sum_y P(y|x) P(x) \\log \\frac {P(y|x)} {Q(y|x)} \\\\\n",
    "= & \\sum_x P(x) \\log \\frac {P(x)} {Q(x)} \\\\\n",
    "& + \\sum_x P(x) \\big( \\sum_y P(y|x) \\log \\frac {P(y|x)} {Q(y|x)} \\big) \\\\\n",
    "= & D_{KL}(P(X) \\parallel Q(X)) + D_{KL}(P(Y|X) \\parallel Q(Y|X))\n",
    "\\end{align*}"
   ]
  },
  {
   "cell_type": "markdown",
   "id": "dcc2f102-3e49-4482-9b39-e6789f68e2fe",
   "metadata": {},
   "source": [
    "# (c)"
   ]
  },
  {
   "cell_type": "markdown",
   "id": "8ea1731e-0147-42b5-bbd0-f1e9d1f8ffda",
   "metadata": {},
   "source": [
    "\\begin{align*}\n",
    "\\arg \\min_\\theta D_{KL}(\\hat P \\parallel P_\\theta)\n",
    "& = \\arg \\min_\\theta \\sum_x \\hat P(x) \\log \\frac {\\hat P(x)} {P_\\theta(x)} \\\\\n",
    "& = \\arg \\min_\\theta \\sum_x \\hat P(x) \\log \\hat P(x) - \\sum_x \\hat P(x) \\log P_\\theta(x) \\\\\n",
    "& = \\arg \\min_\\theta \\big(- \\sum_x \\hat P(x) \\log P_\\theta(x) \\big) \\\\\n",
    "& = \\arg \\max_\\theta \\sum_x \\hat P(x) \\log P_\\theta(x) \\\\\n",
    "& = \\arg \\max_\\theta \\sum_x \\frac {1} {m} \\sum^m_{i=1} 1 \\{ x^{(i)}=x \\} \\log P_\\theta(x) \\\\\n",
    "& = \\arg \\max_\\theta \\frac {1} {m} \\sum^m_{i=1} \\sum_x 1 \\{ x^{(i)}=x \\} \\log P_\\theta(x) \\\\\n",
    "& = \\arg \\max_\\theta \\frac {1} {m} \\sum^m_{i=1} \\log P_\\theta(x^{(i)}) \\\\\n",
    "& = \\arg \\max_\\theta \\sum^m_{i=1} \\log P_\\theta(x^{(i)})\n",
    "\\end{align*}"
   ]
  },
  {
   "cell_type": "code",
   "execution_count": null,
   "id": "c077e413-7880-468d-9ec9-829345857d93",
   "metadata": {},
   "outputs": [],
   "source": []
  }
 ],
 "metadata": {
  "kernelspec": {
   "display_name": "Python 3",
   "language": "python",
   "name": "python3"
  },
  "language_info": {
   "codemirror_mode": {
    "name": "ipython",
    "version": 3
   },
   "file_extension": ".py",
   "mimetype": "text/x-python",
   "name": "python",
   "nbconvert_exporter": "python",
   "pygments_lexer": "ipython3",
   "version": "3.9.2"
  }
 },
 "nbformat": 4,
 "nbformat_minor": 5
}
