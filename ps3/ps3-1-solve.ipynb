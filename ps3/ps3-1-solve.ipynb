{
 "cells": [
  {
   "cell_type": "markdown",
   "id": "cf472dff-e8c3-4b77-a6fe-a1d5e9c71297",
   "metadata": {},
   "source": [
    "# (a)"
   ]
  },
  {
   "cell_type": "markdown",
   "id": "39fc60b7-c655-49a3-aa5a-045cf0f8dc2d",
   "metadata": {},
   "source": [
    "Our update function for $w^{[1]}_{1,2}$:\n",
    "\n",
    "$$\n",
    "w^{[1]}_{1,2} := w^{[1]}_{1,2} - \\alpha \\frac {\\partial l} {\\partial w^{[1]}_{1,2}}\n",
    "$$\n",
    "\n",
    "For $\\frac {\\partial l} {\\partial w^{[1]}_{1,2}}$, we have:\n",
    "\n",
    "\\begin{align*}\n",
    "\\frac {\\partial l} {\\partial w^{[1]}_{1,2}} = & \\\n",
    "\\frac {\\partial l} {\\partial o}\n",
    "\\frac {\\partial o} {\\partial z^{[2]}}\n",
    "\\frac {\\partial z^{[2]}} {\\partial a^{[1]}_2}\n",
    "\\frac {\\partial a^{[1]}_2} {\\partial z^{[1]}_2}\n",
    "\\frac {\\partial z^{[1]}_2} {\\partial w^{[1]}_{1,2}} \\\\\n",
    "= & \\\n",
    "\\frac {2} {m} \\sum^m_{i=1} (o^{(i)} - y^{(i)})\n",
    "\\sigma(z^{[2] (i)})(1 - \\sigma(z^{[2] (i)}))\n",
    "w^{[2]}_2\n",
    "\\sigma(z^{[1] (i)}_2)(1 - \\sigma(z^{[1] (i)}_2))\n",
    "a^{[0]}_1 \\\\\n",
    "z^{[2] (i)} = & \\ w^{[2]}_0 + \\Sigma^{3}_{k=1} w^{[2]}_k \\sigma(w^{[1]}_{0,k} + \\Sigma^2_{j=1} w^{[1]}_{j,k} x^{(i)}_j) \\\\\n",
    "z^{[1] (i)}_2 = & \\ w^{[1]}_{0,2} + \\Sigma^2_{j=1} w^{[1]}_{j,2} x^{(i)}_j \\\\\n",
    "a^{[0]}_1 = & \\ x^{(i)}_1 \\\\\n",
    "\\sigma(z) = & \\ (1 + \\exp(-z))^{-1} \\\\\n",
    "\\end{align*}"
   ]
  },
  {
   "cell_type": "markdown",
   "id": "cee9364f-10db-4031-a40a-8060d5c901bf",
   "metadata": {},
   "source": [
    "# (b)"
   ]
  },
  {
   "cell_type": "markdown",
   "id": "0e973bb2-24fc-4207-bb7f-dbb585637e12",
   "metadata": {},
   "source": [
    "It's possible.\n",
    "\n",
    "We can find that for any $x^{(i)} \\in X$, if\n",
    "\n",
    "\\begin{align*}\n",
    "x^{(i)}_1 < 0.5 \\ \\text{or} \\\\\n",
    "x^{(i)}_2 < 0.5 \\ \\text{or} \\\\\n",
    "x^{(i)}_1 + x^{(i)}_2 > 4.0\n",
    "\\end{align*}\n",
    "\n",
    "then $y^{(i)} = 1$\n",
    "\n",
    "In hidden layer, we have three neurons, so we can simply implement one condition in one neuron.\n",
    "\n",
    "Then we get\n",
    "\n",
    "\\begin{align*}\n",
    "w^{[1]}_{0,1} = -0.5, w^{[1]}_{1,1} = 1, w^{[1]}_{2,1} = 0 \\\\\n",
    "w^{[1]}_{0,2} = -0.5, w^{[1]}_{1,2} = 1, w^{[1]}_{2,2} = 0 \\\\\n",
    "w^{[1]}_{0,3} = -4.0, w^{[1]}_{1,3} = 1, w^{[1]}_{2,3} = 1 \\\\\n",
    "w^{[2]}_0 = -0.5, w^{[2]}_1 = 1, w^{[2]}_2 = 1, w^{[2]}_3 = 1\\\\\n",
    "\\end{align*}"
   ]
  },
  {
   "cell_type": "markdown",
   "id": "5bd00928-0903-442b-b00f-ab95466c41d9",
   "metadata": {},
   "source": [
    "# (c)"
   ]
  },
  {
   "cell_type": "markdown",
   "id": "c5d9f9c9-6f69-4739-a343-4d2e6962979b",
   "metadata": {},
   "source": [
    "It's impossible.\n",
    "\n",
    "If our activation functions be the linear function $f(x)=x$, then for $z^{[2]}$, we have:\n",
    "\n",
    "\\begin{align*}\n",
    "z^{[2]} = & \\ w^{[2]}_0 + \\Sigma^3_{k=1} w^{[2]}_k a^{[1]}_k \\\\\n",
    "= & \\ w^{[2]}_0 + \\Sigma^3_{k=1} w^{[2]}_k f( w^{[1]}_{0,k} + \\Sigma^2_{j=1} w^{[1]}_{j,k} x_j ) \\\\\n",
    "= & \\ w^{[2]}_0 + \\Sigma^3_{k=1} w^{[2]}_k ( w^{[1]}_{0,k} + \\Sigma^2_{j=1} w^{[1]}_{j,k} x_j ) \\\\\n",
    "= & \\ \\Sigma^3_{k=1} w^{[2]}_k \\Sigma^2_{j=1} w^{[1]}_{j,k} x_j + (w^{[2]}_0 + \\Sigma^3_{k=1} w^{[2]}_k w^{[1]}_{0,k}) \\\\\n",
    "= & \\ \\Sigma^2_{i=1} w_i x_i + C\n",
    "\\end{align*}\n",
    "\n",
    "This shows that in this case, our neural network becomes a linear model.\n",
    "\n",
    "And obviously, the linear model can't segment the data displayed in the figure."
   ]
  },
  {
   "cell_type": "code",
   "execution_count": null,
   "id": "d63299ff-bbb6-4f14-b62f-856fe3f51b8c",
   "metadata": {},
   "outputs": [],
   "source": []
  }
 ],
 "metadata": {
  "kernelspec": {
   "display_name": "Python 3",
   "language": "python",
   "name": "python3"
  },
  "language_info": {
   "codemirror_mode": {
    "name": "ipython",
    "version": 3
   },
   "file_extension": ".py",
   "mimetype": "text/x-python",
   "name": "python",
   "nbconvert_exporter": "python",
   "pygments_lexer": "ipython3",
   "version": "3.9.2"
  }
 },
 "nbformat": 4,
 "nbformat_minor": 5
}
