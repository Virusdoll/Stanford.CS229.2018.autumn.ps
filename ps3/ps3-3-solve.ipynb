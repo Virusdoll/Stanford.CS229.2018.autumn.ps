{
 "cells": [
  {
   "cell_type": "markdown",
   "id": "54009f07-4de3-46e1-8dfb-79c86a238ef7",
   "metadata": {},
   "source": [
    "# (a)"
   ]
  },
  {
   "cell_type": "markdown",
   "id": "4a69c274-0c11-4e6a-be16-784fb8d4566b",
   "metadata": {},
   "source": [
    "\\begin{align*}\n",
    "\\mathbb{E}_{y \\sim p(y;\\theta)}[\\bigtriangledown_{\\theta'} \\log p(y;\\theta')|_{\\theta'=\\theta}]\n",
    "& = \\int^\\infty_{-\\infty} p(y;\\theta) \\bigtriangledown_{\\theta'} \\log p(y;\\theta')|_{\\theta'=\\theta} dy \\\\\n",
    "& = \\int^\\infty_{-\\infty} p(y;\\theta) \\frac {1} {p(y;\\theta')} \\bigtriangledown_{\\theta'} p(y;\\theta')|_{\\theta'=\\theta} dy \\\\\n",
    "& = \\int^\\infty_{-\\infty} \\bigtriangledown_{\\theta'} p(y;\\theta')|_{\\theta'=\\theta} dy \\\\\n",
    "& = \\bigtriangledown_{\\theta'} \\int^\\infty_{-\\infty} p(y;\\theta')|_{\\theta'=\\theta} dy \\\\\n",
    "& = \\bigtriangledown_{\\theta'} 1 \\\\\n",
    "& = 0\n",
    "\\end{align*}"
   ]
  },
  {
   "cell_type": "markdown",
   "id": "e30952b7-047d-4b5f-abeb-4d5411b55702",
   "metadata": {},
   "source": [
    "# (b)"
   ]
  },
  {
   "cell_type": "markdown",
   "id": "59eb04d2-7949-4b1a-9106-5e9148c53174",
   "metadata": {},
   "source": [
    "\\begin{align*}\n",
    "\\mathcal{I}(\\theta)\n",
    "= & \\ \\text{Cov}_{y \\sim p(y;\\theta)}[\\bigtriangledown_{\\theta'} \\log p(y;\\theta')|_{\\theta'=\\theta}] \\\\\n",
    "= & \\ \\mathbb{E}_{y \\sim p(y;\\theta)}[\\bigtriangledown_{\\theta'} \\log p(y;\\theta') \\bigtriangledown_{\\theta'} \\log p(y;\\theta')^T|_{\\theta'=\\theta}] \\\\\n",
    "& \\ - \\mathbb{E}_{y \\sim p(y;\\theta)}[\\bigtriangledown_{\\theta'} \\log p(y;\\theta') | _{\\theta'=\\theta}]\n",
    "\\mathbb{E}_{y \\sim p(y;\\theta)}[\\bigtriangledown_{\\theta'} \\log p(y;\\theta') | _{\\theta'=\\theta}] \\\\\n",
    "= & \\ \\mathbb{E}_{y \\sim p(y;\\theta)}[\\bigtriangledown_{\\theta'} \\log p(y;\\theta') \\bigtriangledown_{\\theta'} \\log p(y;\\theta')^T|_{\\theta'=\\theta}] \\\\\n",
    "\\end{align*}"
   ]
  },
  {
   "cell_type": "markdown",
   "id": "eae17786-2adb-4b44-bdd1-74a806889a87",
   "metadata": {},
   "source": [
    "# (c)"
   ]
  },
  {
   "cell_type": "markdown",
   "id": "e98b7317-6620-4022-820f-a2bd7c0e0a04",
   "metadata": {},
   "source": [
    "\\begin{align*}\n",
    "\\mathbb{E}_{y \\sim p(y;\\theta)}[- \\bigtriangledown^2_{\\theta'} \\log p(y;\\theta') |_{\\theta'=\\theta}]\n",
    "= & \\ \\mathbb{E}_{y \\sim p(y;\\theta)}[- \\bigtriangledown_{\\theta'} \\big( \\frac {1} {p(y;\\theta')} \\bigtriangledown_{\\theta'} p(y;\\theta') \\big) |_{\\theta'=\\theta} ] \\\\\n",
    "= & \\ \\mathbb{E}_{y \\sim p(y;\\theta)}[ \\frac {1} {p(y;\\theta')^2} \\bigtriangledown_{\\theta'} p(y;\\theta') \\bigtriangledown_{\\theta'} p(y;\\theta')^T - \\frac {1} {p(y;\\theta')} \\bigtriangledown^2_{\\theta'} p(y;\\theta') |_{\\theta'=\\theta} ] \\\\\n",
    "= & \\ \\mathbb{E}_{y \\sim p(y;\\theta)}[ \\frac {1} {p(y;\\theta')^2} \\bigtriangledown_{\\theta'} p(y;\\theta') \\bigtriangledown_{\\theta'} p(y;\\theta')^T |_{\\theta'=\\theta}] \\\\\n",
    "& \\ - \\mathbb{E}_{y \\sim p(y;\\theta)}[\\frac {1} {p(y;\\theta')} \\bigtriangledown^2_{\\theta'} p(y;\\theta') |_{\\theta'=\\theta} ] \\\\\n",
    "= & \\ \\mathbb{E}_{y \\sim p(y;\\theta)}[ \\frac {1} {p(y;\\theta')^2} \\bigtriangledown_{\\theta'} p(y;\\theta') \\bigtriangledown_{\\theta'} p(y;\\theta')^T |_{\\theta'=\\theta}] \\\\\n",
    "& \\ - \\int^\\infty_{-\\infty} p(y;\\theta) \\frac {1} {p(y;\\theta')} \\bigtriangledown^2_{\\theta'} p(y;\\theta') |_{\\theta'=\\theta} dy \\\\\n",
    "= & \\ \\mathbb{E}_{y \\sim p(y;\\theta)}[ \\frac {1} {p(y;\\theta')^2} \\bigtriangledown_{\\theta'} p(y;\\theta') \\bigtriangledown_{\\theta'} p(y;\\theta')^T |_{\\theta'=\\theta}] \\\\\n",
    "= & \\ \\mathbb{E}_{y \\sim p(y;\\theta)}[\\bigtriangledown_{\\theta'} \\log p(y;\\theta') \\bigtriangledown_{\\theta'} \\log p(y;\\theta')^T|_{\\theta'=\\theta}] \\\\\n",
    "= & \\ \\mathcal{I}(\\theta)\n",
    "\\end{align*}"
   ]
  },
  {
   "cell_type": "markdown",
   "id": "4ba4495c-da5f-4484-abf7-66b2d66ea2e0",
   "metadata": {},
   "source": [
    "# (d)"
   ]
  },
  {
   "cell_type": "markdown",
   "id": "8623cb37-8d9d-48e9-813b-6d3ce6bc7835",
   "metadata": {},
   "source": [
    "\\begin{align*}\n",
    "D_{KL}(p_\\theta \\| p_{\\theta+d})\n",
    "= & \\ \\mathbb{E} [\\log p_\\theta] - \\mathbb{E} [\\log p_{\\theta+d}] \\\\\n",
    "\\approx & \\ \\mathbb{E} [\\log p_\\theta] - \\mathbb{E} [\\log p_\\theta + d^T \\bigtriangledown_{\\theta'} \\log p_{\\theta'} | _{\\theta'=\\theta} + \\frac {1} {2} d^T (\\bigtriangledown^2_{\\theta'} \\log p_{\\theta'} | _{\\theta'=\\theta}) d] \\\\\n",
    "= & \\ \\mathbb{E} [\\log p_\\theta] - \\mathbb{E} [\\log p_\\theta] - \\mathbb{E} [d^T \\bigtriangledown_{\\theta'} \\log p_{\\theta'} | _{\\theta'=\\theta}] - \\mathbb{E} [\\frac {1} {2} d^T \\bigtriangledown^2_{\\theta'} \\log p_{\\theta'} d | _{\\theta'=\\theta}] \\\\\n",
    "= & \\ - d^T \\mathbb{E} [ \\bigtriangledown_{\\theta'} \\log p_{\\theta'} | _{\\theta'=\\theta}] + \\frac {1} {2} d^T \\mathbb{E} [- \\bigtriangledown^2_{\\theta'} \\log p_{\\theta'} | _{\\theta'=\\theta}] d \\\\\n",
    "= & \\ \\frac {1} {2} d^T \\mathcal{I}(\\theta) d\n",
    "\\end{align*}"
   ]
  },
  {
   "cell_type": "markdown",
   "id": "1edda7af-5957-43c5-a63c-7ea6ec1bae2c",
   "metadata": {},
   "source": [
    "# (e)"
   ]
  },
  {
   "cell_type": "markdown",
   "id": "6ea31155-074a-4255-a2cf-d309cf804a4f",
   "metadata": {},
   "source": [
    "Lagrangian:\n",
    "\n",
    "\\begin{align*}\n",
    "\\mathcal{L}(d,\\lambda)\n",
    "= & \\ \\ell (\\theta + d) - \\lambda(D_{KL}(p_\\theta \\| p_{\\theta+d}) - c) \\\\\n",
    "= & \\ \\log p_{\\theta+d} - \\lambda(D_{KL}(p_\\theta \\| p_{\\theta+d}) - c) \\\\\n",
    "\\approx & \\ \\log p_\\theta + d^T \\bigtriangledown_{\\theta'} \\log p_{\\theta'} | _{\\theta'=\\theta} - \\lambda (\\frac {1} {2} d^T \\mathcal{I}(\\theta) d - c)\n",
    "\\end{align*}"
   ]
  },
  {
   "cell_type": "markdown",
   "id": "c79977f7-67d1-48d1-b2e4-c2d8e72b07e3",
   "metadata": {},
   "source": [
    "for $\\bigtriangledown_d \\mathcal{L}(d,\\lambda) =  0$:\n",
    "\n",
    "\\begin{align*}\n",
    "\\bigtriangledown_d \\mathcal{L}(d,\\lambda) = & \\ 0 \\\\\n",
    "\\bigtriangledown_d \\big( d^T \\bigtriangledown_{\\theta'} \\log p_{\\theta'} | _{\\theta'=\\theta} - \\lambda (\\frac {1} {2} d^T \\mathcal{I}(\\theta) d - c) \\big) \\approx & \\ 0 \\\\\n",
    "\\bigtriangledown_{\\theta'} \\log p_{\\theta'} | _{\\theta'=\\theta} = & \\ \\lambda \\mathcal{I}(\\theta) d \\\\\n",
    "\\widetilde{d} = & \\ \\frac {1} {\\lambda} \\mathcal{I}(\\theta)^{-1} \\bigtriangledown_{\\theta'} \\log p_{\\theta'} | _{\\theta'=\\theta}\n",
    "\\end{align*}"
   ]
  },
  {
   "cell_type": "markdown",
   "id": "95f3db28-2141-49f0-81eb-5c7908a66059",
   "metadata": {},
   "source": [
    "for $\\bigtriangledown_\\lambda \\mathcal{L}(d,\\lambda) = 0$:\n",
    "\n",
    "\\begin{align*}\n",
    "\\bigtriangledown_\\lambda \\mathcal{L}(d,\\lambda) = & \\ 0 \\\\\n",
    "\\bigtriangledown_\\lambda \\big( - \\lambda (\\frac {1} {2} d^T \\mathcal{I}(\\theta) d - c) \\big) = & \\ 0 \\\\\n",
    "\\frac {1} {2} d^T \\mathcal{I}(\\theta) d = & \\ c \\\\\n",
    "\\frac {1} {2}\n",
    "\\big(\\frac {1} {\\lambda} \\mathcal{I}(\\theta)^{-1} \\bigtriangledown_{\\theta'} \\log p_{\\theta'} | _{\\theta'=\\theta} \\big)^T \n",
    "\\mathcal{I}(\\theta)\n",
    "\\big( \\frac {1} {\\lambda} \\mathcal{I}(\\theta)^{-1} \\bigtriangledown_{\\theta'} \\log p_{\\theta'} | _{\\theta'=\\theta} \\big)\n",
    "= & \\ c \\\\\n",
    "\\frac {1} {2} \\frac {1} {\\lambda^2}\n",
    "\\big( \\bigtriangledown_{\\theta'} \\log p_{\\theta'} | _{\\theta'=\\theta} \\big)^T\n",
    "\\mathcal{I}(\\theta)^{-1}\n",
    "\\bigtriangledown_{\\theta'} \\log p_{\\theta'} | _{\\theta'=\\theta}\n",
    "= & \\ c \\\\\n",
    "\\frac {1} {2} \\frac {1} {c}\n",
    "\\big( \\bigtriangledown_{\\theta'} \\log p_{\\theta'} | _{\\theta'=\\theta} \\big)^T\n",
    "\\mathcal{I}(\\theta)^{-1}\n",
    "\\bigtriangledown_{\\theta'} \\log p_{\\theta'} | _{\\theta'=\\theta}\n",
    "= & \\ \\lambda^2 \\\\\n",
    "\\end{align*}\n",
    "\n",
    "Because $\\lambda \\in \\mathbb{R}_+$, so:\n",
    "\n",
    "$$\n",
    "\\lambda =\n",
    "\\Big(\n",
    "\\frac {1} {2} \\frac {1} {c}\n",
    "\\big( \\bigtriangledown_{\\theta'} \\log p_{\\theta'} | _{\\theta'=\\theta} \\big)^T\n",
    "\\mathcal{I}(\\theta)^{-1}\n",
    "\\bigtriangledown_{\\theta'} \\log p_{\\theta'} | _{\\theta'=\\theta}\n",
    "\\Big)^{\\frac {1} {2}}\n",
    "$$"
   ]
  },
  {
   "cell_type": "markdown",
   "id": "5d46f6ce-2dfd-43fc-b7f0-de10ca9d0479",
   "metadata": {},
   "source": [
    "Plug $\\lambda$ into $\\widetilde{d}$:\n",
    "\n",
    "$$\n",
    "d^* =\n",
    "\\Big(\n",
    "\\frac {1} {2} \\frac {1} {c}\n",
    "\\big( \\bigtriangledown_{\\theta'} \\log p_{\\theta'} | _{\\theta'=\\theta} \\big)^T\n",
    "\\mathcal{I}(\\theta)^{-1}\n",
    "\\bigtriangledown_{\\theta'} \\log p_{\\theta'} | _{\\theta'=\\theta}\n",
    "\\Big)^{- \\frac {1} {2}}\n",
    "\\mathcal{I}(\\theta)^{-1} \\bigtriangledown_{\\theta'} \\log p_{\\theta'} | _{\\theta'=\\theta}\n",
    "$$"
   ]
  },
  {
   "cell_type": "markdown",
   "id": "506ed9b8-0730-4971-bc6a-abd906512838",
   "metadata": {},
   "source": [
    "# (f)"
   ]
  },
  {
   "cell_type": "markdown",
   "id": "4adc950b-b4f6-4e10-8e9a-9b8f872eced2",
   "metadata": {},
   "source": [
    "Newton’s Method:\n",
    "\n",
    "$$\n",
    "\\theta := \\theta - H^{-1} \\bigtriangledown_\\theta \\ell(\\theta)\n",
    "$$\n",
    "\n",
    "Natural Gradient:\n",
    "\n",
    "\\begin{align*}\n",
    "\\theta := & \\ \\theta + \\widetilde{d} \\\\\n",
    "= & \\ \\theta + \\frac {1} {\\lambda} \\mathcal{I}(\\theta)^{-1} \\bigtriangledown_{\\theta'} \\log p_{\\theta'} | _{\\theta'=\\theta} \\\\\n",
    "= & \\ \\theta + \\frac {1} {\\lambda}\n",
    "\\mathbb{E}_{y \\sim p(y;\\theta)}[- \\bigtriangledown^2_{\\theta'} \\log p(y;\\theta') |_{\\theta'=\\theta}]^{-1}\n",
    "\\bigtriangledown_{\\theta'} \\ell(\\theta) \\\\\n",
    "= & \\ \\theta - \\frac {1} {\\lambda}\n",
    "\\mathbb{E}_{y \\sim p(y;\\theta)}[\\bigtriangledown^2_{\\theta'} \\ell(\\theta)]^{-1}\n",
    "\\bigtriangledown_{\\theta'} \\ell(\\theta) \\\\\n",
    "= & \\ \\theta - \\frac {1} {\\lambda}\n",
    "\\mathbb{E}_{y \\sim p(y;\\theta)}[H^{-1}]\n",
    "\\bigtriangledown_{\\theta'} \\ell(\\theta) \\\\\n",
    "\\end{align*}"
   ]
  },
  {
   "cell_type": "code",
   "execution_count": null,
   "id": "23ed5f33-a7f8-43fb-81bc-031d401e7564",
   "metadata": {},
   "outputs": [],
   "source": []
  }
 ],
 "metadata": {
  "kernelspec": {
   "display_name": "Python 3",
   "language": "python",
   "name": "python3"
  },
  "language_info": {
   "codemirror_mode": {
    "name": "ipython",
    "version": 3
   },
   "file_extension": ".py",
   "mimetype": "text/x-python",
   "name": "python",
   "nbconvert_exporter": "python",
   "pygments_lexer": "ipython3",
   "version": "3.9.2"
  }
 },
 "nbformat": 4,
 "nbformat_minor": 5
}
