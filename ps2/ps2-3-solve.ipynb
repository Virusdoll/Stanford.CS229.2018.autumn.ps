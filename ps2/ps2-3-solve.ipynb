{
 "cells": [
  {
   "cell_type": "markdown",
   "id": "1535354b",
   "metadata": {},
   "source": [
    "### (a)"
   ]
  },
  {
   "cell_type": "markdown",
   "id": "021e0b65",
   "metadata": {},
   "source": [
    "\\begin{align*}\n",
    "\\theta_\\text{MAP} & = \\arg \\max_\\theta p(\\theta | x, y) \\\\\n",
    "& = \\arg \\max_\\theta \\frac {p(\\theta, x, y)} {p(x, y)} \\\\\n",
    "& = \\arg \\max_\\theta p(\\theta, x, y) \\\\\n",
    "& = \\arg \\max_\\theta \\frac {p(\\theta, x, y)} {p(x)} \\\\\n",
    "& = \\arg \\max_\\theta \\frac {p(\\theta, x, y)} {p(\\theta, x)} \\frac {p(\\theta, x)} {p(x)} \\\\\n",
    "& = \\arg \\max_\\theta p(y | x, \\theta) p(\\theta | x)\n",
    "\\end{align*}\n",
    "\n",
    "because we assume that $ p(\\theta) = p(\\theta | x) $, so\n",
    "$$ \\theta_\\text{MAP} = \\arg \\max_\\theta p(y | x, \\theta) p(\\theta) $$"
   ]
  },
  {
   "cell_type": "markdown",
   "id": "ca48684f",
   "metadata": {},
   "source": [
    "### (b)"
   ]
  },
  {
   "cell_type": "markdown",
   "id": "32e2ea7c",
   "metadata": {},
   "source": [
    "\\begin{align*}\n",
    "\\theta_\\text{MAP} & = \\arg \\max_\\theta p(\\theta | x, y) \\\\\n",
    "& = \\arg \\max_\\theta p(y | x, \\theta) p(\\theta) \\\\\n",
    "& = \\arg \\min_\\theta - p(y | x, \\theta) p(\\theta) \\\\\n",
    "& = \\arg \\min_\\theta - \\log p(y | x, \\theta) p(\\theta) \\\\\n",
    "& = \\arg \\min_\\theta - \\log p(y | x, \\theta) - \\log p(\\theta)\n",
    "\\end{align*}"
   ]
  },
  {
   "cell_type": "markdown",
   "id": "a9a58740",
   "metadata": {},
   "source": [
    "for $ \\theta $, we have $ \\theta \\sim \\mathcal{N}(0, \\eta^2I) $, so\n",
    "$$\n",
    "p(\\theta_i) = \\frac {1} {\\eta \\sqrt{2 \\pi}} \\exp \\big( - \\frac {\\theta_i^2} {2 \\eta^2} \\big)\n",
    "$$\n",
    "\n",
    "then,\n",
    "\\begin{align*}\n",
    "p(\\theta) & = \\prod_{i=1}^n p(\\theta_i) \\\\\n",
    "\\log p(\\theta) & = \\log \\prod_{i=1}^n p(\\theta_i) \\\\\n",
    "& = \\sum_{i=1}^n \\log p(\\theta_i) \\\\\n",
    "& = \\sum_{i=1}^n \\log \\frac {1} {\\eta \\sqrt{2 \\pi}} \\exp \\big( - \\frac {\\theta_i^2} {2 \\eta^2} \\big) \\\\\n",
    "& = \\sum_{i=1}^n \\log \\frac {1} {\\eta \\sqrt{2 \\pi}} - \\frac {\\theta_i^2} {2 \\eta^2} \\\\\n",
    "& = n \\log \\frac {1} {\\eta \\sqrt{2 \\pi}} - \\frac {1} {2 \\eta^2} \\sum_{i=1}^n \\theta_i^2 \\\\\n",
    "& = n \\log \\frac {1} {\\eta \\sqrt{2 \\pi}} - \\frac {1} {2 \\eta^2} \\| \\theta \\|_2^2\n",
    "\\end{align*}"
   ]
  },
  {
   "cell_type": "markdown",
   "id": "55059134",
   "metadata": {},
   "source": [
    "back to $ \\theta_\\text{MAP} $, we have\n",
    "\\begin{align*}\n",
    "\\theta_\\text{MAP} & = \\arg \\min_\\theta - \\log p(y | x, \\theta) - \\log p(\\theta) \\\\\n",
    "& = \\arg \\min_\\theta - \\log p(y | x, \\theta) - n \\log \\frac {1} {\\eta \\sqrt{2 \\pi}} + \\frac {1} {2 \\eta^2} \\| \\theta \\|_2^2 \\\\\n",
    "& = \\arg \\min_\\theta - \\log p(y | x, \\theta) + \\frac {1} {2 \\eta^2} \\| \\theta \\|_2^2 \\\\\n",
    "& = \\arg \\min_\\theta - \\log p(y | x, \\theta) + \\lambda \\| \\theta \\|_2^2\n",
    "\\end{align*}\n",
    "\n",
    "and,\n",
    "$$\n",
    "\\lambda = \\frac {1} {2 \\eta^2}\n",
    "$$"
   ]
  },
  {
   "cell_type": "markdown",
   "id": "4a9f9b6d",
   "metadata": {},
   "source": [
    "### (c)"
   ]
  },
  {
   "cell_type": "markdown",
   "id": "b5e4aae9",
   "metadata": {},
   "source": [
    "we have $ \\epsilon \\sim \\mathcal{N}(0, \\sigma^2) $, it means $ y - x^T\\theta \\sim \\mathcal{N}(0, \\sigma^2) $, so\n",
    "\\begin{align*}\n",
    "p(y^{(i)} | x^{(i)}, \\theta) & = \\frac {1} {\\sigma \\sqrt{2\\pi}} \\exp \\big( - \\frac {(y^{(i)} - (x^{(i)})^T \\theta)^2} {2\\sigma^2} \\big) \\\\\n",
    "p(y | x, \\theta) & = \\prod_{i=1}^{m} p(y^{(i)} | x^{(i)}, \\theta) \\\\\n",
    "\\log p(y | x, \\theta) & = \\sum_{i=1}^{m} \\log \\frac {1} {\\sigma \\sqrt{2\\pi}} \\exp \\big( - \\frac {(y^{(i)} - (x^{(i)})^T \\theta)^2} {2\\sigma^2} \\big) \\\\\n",
    "& = m \\log \\frac {1} {\\sigma \\sqrt{2\\pi}} - \\frac {1} {2\\sigma^2} \\sum_{i=1}^{m} (y^{(i)} - (x^{(i)})^T \\theta)^2 \\\\\n",
    "& = m \\log \\frac {1} {\\sigma \\sqrt{2\\pi}} - \\frac {1} {2\\sigma^2} \\| \\vec{y} - X \\theta \\|^2_2\n",
    "\\end{align*}"
   ]
  },
  {
   "cell_type": "markdown",
   "id": "c349893c",
   "metadata": {},
   "source": [
    "back to $ \\theta_\\text{MAP} $, we have\n",
    "\\begin{align*}\n",
    "\\theta_\\text{MAP} & = \\arg \\min_\\theta - \\log p(y | x, \\theta) + \\lambda \\| \\theta \\|_2^2 \\\\\n",
    "& = \\arg \\min_\\theta - m \\log \\frac {1} {\\epsilon \\sqrt{2\\pi}} + \\frac {1} {2\\sigma^2} \\| \\vec{y} - X \\theta \\|^2_2 + \\frac {1} {2\\eta^2} \\| \\theta \\|_2^2 \\\\\n",
    "& = \\arg \\min_\\theta \\| \\vec{y} - X \\theta \\|^2_2 + \\frac {\\sigma^2} {\\eta^2} \\| \\theta \\|_2^2\n",
    "\\end{align*}"
   ]
  },
  {
   "cell_type": "markdown",
   "id": "33f732d2",
   "metadata": {},
   "source": [
    "let $ J(\\theta) = \\| \\vec{y} - X \\theta \\|^2_2 + \\frac {\\sigma^2} {\\eta^2} \\| \\theta \\|_2^2 $, and solve $ \\triangledown_\\theta J(\\theta) = 0 $\n",
    "\n",
    "for $ \\triangledown_\\theta J(\\theta) $,\n",
    "\\begin{align*}\n",
    "\\triangledown_\\theta J(\\theta) & = \\triangledown_\\theta \\big( \\| \\vec{y} - X \\theta \\|^2_2 + \\frac {\\sigma^2} {\\eta^2} \\| \\theta \\|_2^2 \\big) \\\\\n",
    "& = \\triangledown_\\theta \\big( (\\vec{y} - X \\theta)^T (\\vec{y} - X \\theta) + \\frac {\\sigma^2} {\\eta^2} \\theta^T \\theta \\big) \\\\\n",
    "& = 2 (- X)^T (\\vec{y} - X\\theta) + 2 \\frac {\\sigma^2} {\\eta^2} \\theta\n",
    "\\end{align*}\n",
    "\n",
    "then\n",
    "\\begin{align*}\n",
    "\\triangledown_\\theta J(\\theta) & = 0 \\\\\n",
    "2 (- X)^T (\\vec{y} - X\\theta) + 2 \\frac {\\sigma^2} {\\eta^2} \\theta & = 0 \\\\\n",
    "- X^T \\vec{y} + X^T X \\theta + \\frac {\\sigma^2} {\\eta^2} \\theta & = 0 \\\\\n",
    "\\theta_\\text{MAP} & = (X^T X + \\frac {\\sigma^2} {\\eta^2} I)^{-1} X^T \\vec{y}\n",
    "\\end{align*}"
   ]
  },
  {
   "cell_type": "markdown",
   "id": "c0984807",
   "metadata": {},
   "source": [
    "### (d)"
   ]
  },
  {
   "cell_type": "markdown",
   "id": "598e6b71",
   "metadata": {},
   "source": [
    "now, $ \\theta \\sim \\mathcal{L}(0, bI) $\n",
    "\n",
    "for $ \\log p(\\theta) $,\n",
    "\\begin{align*}\n",
    "p(\\theta_i) & = \\frac {1} {2b} \\exp \\big(- \\frac {|\\theta_i|} {b} \\big) \\\\\n",
    "p(\\theta) & = \\prod_{i=1}^{n} p(\\theta_i) \\\\\n",
    "\\log p(\\theta) & = \\sum_{i=1}^{n} \\log \\frac {1} {2b} \\exp \\big(- \\frac {|\\theta_i|} {b} \\big) \\\\\n",
    "& = n \\log \\frac {1} {2b} - \\frac {1} {b} \\sum_{i=1}^{n} |\\theta_i| \\\\\n",
    "& = n \\log \\frac {1} {2b} - \\frac {1} {b} \\| \\theta \\|_1\n",
    "\\end{align*}"
   ]
  },
  {
   "cell_type": "markdown",
   "id": "fc75f999",
   "metadata": {},
   "source": [
    "back to $ \\theta_\\text{MAP} $,\n",
    "\\begin{align*}\n",
    "\\theta_\\text{MAP} & = \\arg \\min_\\theta - \\log p(y | x, \\theta) - \\log p(\\theta) \\\\\n",
    "& = \\arg \\min_\\theta - m \\log \\frac {1} {\\sigma \\sqrt{2\\pi}} + \\frac {1} {2\\sigma^2} \\| \\vec{y} - X \\theta \\|^2_2 - n \\log \\frac {1} {2b} + \\frac {1} {b} \\| \\theta \\|_1 \\\\\n",
    "& = \\arg \\min_\\theta \\| \\vec{y} - X \\theta \\|^2_2 + \\frac {2\\sigma^2} {b} \\| \\theta \\|_1\n",
    "\\end{align*}\n",
    "\n",
    "so,\n",
    "$$\n",
    "J(\\theta) = \\| \\vec{y} - X \\theta \\|^2_2 + \\gamma \\| \\theta \\|_1 \\\\\n",
    "\\gamma = \\frac {2\\sigma^2} {b}\n",
    "$$"
   ]
  },
  {
   "cell_type": "code",
   "execution_count": null,
   "id": "7e42ab57",
   "metadata": {},
   "outputs": [],
   "source": []
  }
 ],
 "metadata": {
  "kernelspec": {
   "display_name": "Python 3",
   "language": "python",
   "name": "python3"
  },
  "language_info": {
   "codemirror_mode": {
    "name": "ipython",
    "version": 3
   },
   "file_extension": ".py",
   "mimetype": "text/x-python",
   "name": "python",
   "nbconvert_exporter": "python",
   "pygments_lexer": "ipython3",
   "version": "3.9.2"
  }
 },
 "nbformat": 4,
 "nbformat_minor": 5
}
