{
 "cells": [
  {
   "cell_type": "markdown",
   "id": "38e8e16b",
   "metadata": {},
   "source": [
    "# (a)"
   ]
  },
  {
   "cell_type": "markdown",
   "id": "f3519535",
   "metadata": {},
   "source": [
    "code implements on `src/p06_spam.py`"
   ]
  },
  {
   "cell_type": "code",
   "execution_count": 1,
   "id": "d561b321",
   "metadata": {},
   "outputs": [],
   "source": [
    "import numpy as np\n",
    "\n",
    "from src import util\n",
    "from src import svm\n",
    "\n",
    "from src.p06_spam import create_dictionary, transform_text, \\\n",
    "                         fit_naive_bayes_model, \\\n",
    "                         predict_from_naive_bayes_model, \\\n",
    "                         get_top_five_naive_bayes_words, \\\n",
    "                         compute_best_svm_radius"
   ]
  },
  {
   "cell_type": "code",
   "execution_count": 2,
   "id": "e858aa4a",
   "metadata": {},
   "outputs": [],
   "source": [
    "train_messages, train_labels = util.load_spam_dataset(\n",
    "    'data/ds6_train.tsv')\n",
    "val_messages, val_labels = util.load_spam_dataset(\n",
    "    'data/ds6_val.tsv')\n",
    "test_messages, test_labels = util.load_spam_dataset(\n",
    "    'data/ds6_test.tsv')"
   ]
  },
  {
   "cell_type": "code",
   "execution_count": 3,
   "id": "7707760b",
   "metadata": {},
   "outputs": [],
   "source": [
    "dictionary = create_dictionary(train_messages)\n",
    "train_matrix = transform_text(train_messages, dictionary)\n",
    "val_matrix = transform_text(val_messages, dictionary)\n",
    "test_matrix = transform_text(test_messages, dictionary)"
   ]
  },
  {
   "cell_type": "code",
   "execution_count": 4,
   "id": "b9f2c7b8",
   "metadata": {},
   "outputs": [],
   "source": [
    "util.write_json('src/output/p06_dictionary', dictionary)\n",
    "np.savetxt('src/output/p06_sample_train_matrix',\n",
    "    train_matrix[:100,:])"
   ]
  },
  {
   "cell_type": "markdown",
   "id": "7bf9d9fe",
   "metadata": {},
   "source": [
    "# (b)"
   ]
  },
  {
   "cell_type": "markdown",
   "id": "d51b9968",
   "metadata": {},
   "source": [
    "code implements on `src/p06_spam.py`"
   ]
  },
  {
   "cell_type": "code",
   "execution_count": 5,
   "id": "22058dad",
   "metadata": {},
   "outputs": [],
   "source": [
    "naive_bayes_model = fit_naive_bayes_model(\n",
    "    train_matrix, train_labels)"
   ]
  },
  {
   "cell_type": "code",
   "execution_count": 6,
   "id": "2dc8a4e8",
   "metadata": {},
   "outputs": [],
   "source": [
    "naive_bayes_predictions = predict_from_naive_bayes_model(\n",
    "    naive_bayes_model, test_matrix)"
   ]
  },
  {
   "cell_type": "code",
   "execution_count": 7,
   "id": "ca4a8df2",
   "metadata": {},
   "outputs": [],
   "source": [
    "naive_bayes_accuracy = np.mean(\n",
    "    naive_bayes_predictions == test_labels)"
   ]
  },
  {
   "cell_type": "code",
   "execution_count": 8,
   "id": "ea4c1855",
   "metadata": {},
   "outputs": [
    {
     "name": "stdout",
     "output_type": "stream",
     "text": [
      "Naive Bayes had an accuracy of 0.978494623655914 on the testing set\n"
     ]
    }
   ],
   "source": [
    "print('Naive Bayes had an accuracy of {} on the testing set'.format(naive_bayes_accuracy))"
   ]
  },
  {
   "cell_type": "code",
   "execution_count": 9,
   "id": "3787fe9b",
   "metadata": {},
   "outputs": [],
   "source": [
    "np.savetxt('src/output/p06_naive_bayes_predictions',\n",
    "    naive_bayes_predictions)"
   ]
  },
  {
   "cell_type": "markdown",
   "id": "57c892e3",
   "metadata": {},
   "source": [
    "# (c)"
   ]
  },
  {
   "cell_type": "markdown",
   "id": "0b694009",
   "metadata": {},
   "source": [
    "code implements on `src/p06_spam.py`"
   ]
  },
  {
   "cell_type": "code",
   "execution_count": 10,
   "id": "9d585243",
   "metadata": {},
   "outputs": [],
   "source": [
    "top_5_words = get_top_five_naive_bayes_words(\n",
    "    naive_bayes_model, dictionary)"
   ]
  },
  {
   "cell_type": "code",
   "execution_count": 11,
   "id": "7cfd008c",
   "metadata": {},
   "outputs": [
    {
     "name": "stdout",
     "output_type": "stream",
     "text": [
      "The top 5 indicative words for Naive Bayes are:  ['claim', 'won', 'prize', 'tone', 'urgent!']\n"
     ]
    }
   ],
   "source": [
    "print('The top 5 indicative words for Naive Bayes are: ', top_5_words)"
   ]
  },
  {
   "cell_type": "code",
   "execution_count": 12,
   "id": "6134e0ce",
   "metadata": {},
   "outputs": [],
   "source": [
    "util.write_json('src/output/p06_top_indicative_words', top_5_words)"
   ]
  },
  {
   "cell_type": "markdown",
   "id": "a088c748",
   "metadata": {},
   "source": [
    "# (d)"
   ]
  },
  {
   "cell_type": "markdown",
   "id": "3f698fdf",
   "metadata": {},
   "source": [
    "code implements on `src/p06_spam.py`"
   ]
  },
  {
   "cell_type": "code",
   "execution_count": 13,
   "id": "f04c3dfa",
   "metadata": {},
   "outputs": [
    {
     "name": "stdout",
     "output_type": "stream",
     "text": [
      "The optimal SVM radius was 0.1\n"
     ]
    }
   ],
   "source": [
    "optimal_radius = compute_best_svm_radius(\n",
    "    train_matrix, train_labels, val_matrix, val_labels,\n",
    "    [0.01, 0.1, 1, 10])\n",
    "print('The optimal SVM radius was {}'.format(optimal_radius))"
   ]
  },
  {
   "cell_type": "code",
   "execution_count": 14,
   "id": "18eb2466",
   "metadata": {},
   "outputs": [],
   "source": [
    "util.write_json('src/output/p06_optimal_radius', optimal_radius)"
   ]
  },
  {
   "cell_type": "code",
   "execution_count": 15,
   "id": "a0302220",
   "metadata": {},
   "outputs": [
    {
     "name": "stdout",
     "output_type": "stream",
     "text": [
      "The SVM model had an accuracy of 0.9695340501792115 on the testing set\n"
     ]
    }
   ],
   "source": [
    "svm_predictions = svm.train_and_predict_svm(\n",
    "    train_matrix, train_labels, test_matrix, optimal_radius)\n",
    "svm_accuracy = np.mean(svm_predictions == test_labels)\n",
    "print('The SVM model had an accuracy of {} on the testing set'.format(svm_accuracy))"
   ]
  },
  {
   "cell_type": "code",
   "execution_count": null,
   "id": "82ab7a29",
   "metadata": {},
   "outputs": [],
   "source": []
  }
 ],
 "metadata": {
  "kernelspec": {
   "display_name": "Python 3",
   "language": "python",
   "name": "python3"
  },
  "language_info": {
   "codemirror_mode": {
    "name": "ipython",
    "version": 3
   },
   "file_extension": ".py",
   "mimetype": "text/x-python",
   "name": "python",
   "nbconvert_exporter": "python",
   "pygments_lexer": "ipython3",
   "version": "3.9.2"
  }
 },
 "nbformat": 4,
 "nbformat_minor": 5
}
