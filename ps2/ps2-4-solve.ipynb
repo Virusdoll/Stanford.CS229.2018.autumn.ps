{
 "cells": [
  {
   "cell_type": "markdown",
   "id": "bcbf9ba2",
   "metadata": {},
   "source": [
    "# (a)"
   ]
  },
  {
   "cell_type": "markdown",
   "id": "eb694d6e",
   "metadata": {},
   "source": [
    "$K(x,z) = K_1(x,z) + K_2(x,z)$ is necessarily a kernel\n",
    "\n",
    "symmetric:\n",
    "\n",
    "\\begin{align*}\n",
    "K^T & = (K_1 + K_2)^T \\\\\n",
    "& = K_1^T + K_2^T \\\\\n",
    "& = K_1 + K_2 \\\\\n",
    "& = K\n",
    "\\end{align*}\n",
    "\n",
    "PSD:\n",
    "\n",
    "\\begin{align*}\n",
    "z^TKz & = z^T(K_1 + K_2)z \\\\\n",
    "& = z^TK_1z + z^TK_2z \\\\\n",
    "& \\ge 0\n",
    "\\end{align*}"
   ]
  },
  {
   "cell_type": "markdown",
   "id": "4e0aadcd",
   "metadata": {},
   "source": [
    "# (b)"
   ]
  },
  {
   "cell_type": "markdown",
   "id": "d6a43e29",
   "metadata": {},
   "source": [
    "$K(x,z)=K_1(x,z)-K_2(x,z)$ isn't necessarily a kernel\n",
    "\n",
    "symmetric:\n",
    "\n",
    "\\begin{align*}\n",
    "K^T & = (K_1 - K_2)^T \\\\\n",
    "& = K_1^T - K_2^T \\\\\n",
    "& = K_1 - K_2 \\\\\n",
    "& = K\n",
    "\\end{align*}\n",
    "\n",
    "PSD:\n",
    "\n",
    "\\begin{align*}\n",
    "z^TKz & = z^T(K_1-K_2)z \\\\\n",
    "& = z^TK_1z - z^TK_2z\n",
    "\\end{align*}\n",
    "\n",
    "$K$ isn't PSD when $K_1 < K_2$"
   ]
  },
  {
   "cell_type": "markdown",
   "id": "17511ca9",
   "metadata": {},
   "source": [
    "# (c)"
   ]
  },
  {
   "cell_type": "markdown",
   "id": "3b2fd46c",
   "metadata": {},
   "source": [
    "$K(x,z)=aK_1(x,z)$ isn't necessarily a kernel\n",
    "\n",
    "symmetric:\n",
    "\n",
    "\\begin{align*}\n",
    "K^T & = (aK_1)^T \\\\\n",
    "& = aK_1^T \\\\\n",
    "& = aK_1 \\\\\n",
    "& = K\n",
    "\\end{align*}\n",
    "\n",
    "PSD:\n",
    "\n",
    "\\begin{align*}\n",
    "z^TKz & = z^T a K_1 z \\\\\n",
    "& = a z^TK_1z\n",
    "\\end{align*}\n",
    "\n",
    "$K$ isn't PSD when $a < 0$"
   ]
  },
  {
   "cell_type": "markdown",
   "id": "334d473a",
   "metadata": {},
   "source": [
    "# (d)"
   ]
  },
  {
   "cell_type": "markdown",
   "id": "a8fbaf8b",
   "metadata": {},
   "source": [
    "$K(x,z)=-aK_1(x,z)$ isn't necessarily a kernel\n",
    "\n",
    "symmetric:\n",
    "\n",
    "\\begin{align*}\n",
    "K^T & = (-aK_1)^T \\\\\n",
    "& = -aK_1^T \\\\\n",
    "& = -aK_1 \\\\\n",
    "& = K\n",
    "\\end{align*}\n",
    "\n",
    "PSD:\n",
    "\n",
    "\\begin{align*}\n",
    "z^TKz & = z^T ( -a K_1 ) z \\\\\n",
    "& = -a z^TK_1z\n",
    "\\end{align*}\n",
    "\n",
    "$K$ isn't PSD when $a > 0$"
   ]
  },
  {
   "cell_type": "markdown",
   "id": "3bb39c41",
   "metadata": {},
   "source": [
    "# (e)"
   ]
  },
  {
   "cell_type": "markdown",
   "id": "615214af",
   "metadata": {},
   "source": [
    "$K(x,z) = K_1(x,z)K_2(x,z)$ is necessarily a kernel\n",
    "\n",
    "symmetric:\n",
    "\n",
    "\\begin{align*}\n",
    "K^T & = (K_1K_2)^T \\\\\n",
    "& = K_2^T K_1^T \\\\\n",
    "& = K_2 K_1 \\\\\n",
    "K^T_{ij} & = \\sum^n_{k=1} K_{2_{ik}} K_{1_{kj}} \\\\\n",
    "& = \\sum^n_{k=1} K_{1_{jk}} K_{2_{ki}} \\\\\n",
    "K^T & = \\sum^n_{k=1} K_{1_{\\cdot k}} K_{2_{k \\cdot}} \\\\\n",
    "& = K_1 K_2 \\\\\n",
    "& = K\n",
    "\\end{align*}\n",
    "\n",
    "PSD:\n",
    "\n",
    "\\begin{align*}\n",
    "z^TKz & = \\sum_i \\sum_j z_i K_{ij} z_j \\\\\n",
    "& = \\sum_i \\sum_j z_i K_1(x^{(i)}, x^{(j)}) K_2(x^{(i)}, x^{(j)}) z_j \\\\\n",
    "& = \\sum_i \\sum_j z_i \\phi_1(x^{(i)})^T \\phi_1(x^{(j)}) \\phi_2(x^{(i)})^T \\phi_2(x^{(j)}) z_j \\\\\n",
    "& = \\sum_i \\sum_j z_i z_j \\sum_k \\phi_{1k}(x^{(i)}) \\phi_{1k}(x^{(j)}) \\sum_l \\phi_{2l}(x^{(i)}) \\phi_{2l}(x^{(j)}) \\\\\n",
    "& = \\sum_k \\sum_l \\sum_i z_i \\phi_{1k}(x^{(i)}) \\phi_{2l}(x^{(i)}) \\sum_j z_j \\phi_{1k}(x^{(j)}) \\phi_{2l}(x^{(j)}) \\\\\n",
    "& = \\sum_k \\sum_l \\big( \\sum_i z_i \\phi_{1k}(x^{(i)}) \\phi_{2l}(x^{(i)}) \\big)^2 \\\\\n",
    "& \\ge 0\n",
    "\\end{align*}"
   ]
  },
  {
   "cell_type": "markdown",
   "id": "9b6726b7",
   "metadata": {},
   "source": [
    "# (f)"
   ]
  },
  {
   "cell_type": "markdown",
   "id": "ecae2abc",
   "metadata": {},
   "source": [
    "$K(x,z)=f(x)f(y)$ is necessarily a kernel\n",
    "\n",
    "symmetric:\n",
    "\n",
    "\\begin{align*}\n",
    "K_{ij} & = K(x^{(i)}, x^{(j)}) \\\\\n",
    "& = f(x^{(i)}) f(x^{(j)}) \\\\\n",
    "& = f(x^{(j)}) f(x^{(i)}) \\\\\n",
    "& = K(x^{(j)}, x^{(i)}) \\\\\n",
    "& = K_{ji}\n",
    "\\end{align*}\n",
    "\n",
    "PSD:\n",
    "\n",
    "\\begin{align*}\n",
    "z^T K z & = \\sum_i \\sum_j z_i f(x^{(i)}) f(x^{(j)}) z_j \\\\\n",
    "& = \\sum_i z_i f(x^{(i)}) \\sum_j z_j f(x^{(j)}) \\\\\n",
    "& = \\big( \\sum_i z_i f(x^{(i)}) \\big)^2 \\\\\n",
    "& \\ge 0\n",
    "\\end{align*}"
   ]
  },
  {
   "cell_type": "markdown",
   "id": "e395a74c",
   "metadata": {},
   "source": [
    "# (g)"
   ]
  },
  {
   "cell_type": "markdown",
   "id": "187be986",
   "metadata": {},
   "source": [
    "$K(x,z)=K_3(\\phi(x), \\phi(z))$ is necessarily a kernel\n",
    "\n",
    "symmetric:\n",
    "\n",
    "\\begin{align*}\n",
    "K^T & = K_3^T \\\\\n",
    "& = K_3 \\\\\n",
    "& = K\n",
    "\\end{align*}\n",
    "\n",
    "PSD:\n",
    "\n",
    "\\begin{align*}\n",
    "z^TKz & = z^T K_3 z \\\\\n",
    "& \\ge 0\n",
    "\\end{align*}"
   ]
  },
  {
   "cell_type": "markdown",
   "id": "cc707dd7",
   "metadata": {},
   "source": [
    "# (h)"
   ]
  },
  {
   "cell_type": "markdown",
   "id": "f32f3eda",
   "metadata": {},
   "source": [
    "let $p(x) = \\sum_i a_i x^i$, so $K(x,z)=p(K_1(x,z))$ is necessarily a kernel when $a_i \\ge 0 \\ \\text{for any} \\ i$\n",
    "\n",
    "symmetric:\n",
    "\n",
    "\\begin{align*}\n",
    "K^T & = (p(K_1))^T \\\\\n",
    "& = \\big( \\sum_i a_i K_1^i \\big)^T \\\\\n",
    "& = \\sum_i a_i (K_1^i)^T \\\\\n",
    "& = \\sum_i a_i K_1^i \\\\\n",
    "& = p(K_1) \\\\\n",
    "& = K\n",
    "\\end{align*}\n",
    "\n",
    "PSD:\n",
    "\n",
    "\\begin{align*}\n",
    "z^T K z & = z^T \\big( \\sum_i a_i K_1^i \\big) z \\\\\n",
    "& = \\sum_i a_i z^T K_1^i z\n",
    "\\end{align*}\n",
    "\n",
    "From (e), we know $K_1(x, z)^2$ is a kernel, so $K_1(x,z)^n$ is also a kernel. And, we have $a_i \\ge 0 \\ \\text{for any} \\ i$, then\n",
    "\n",
    "$$\n",
    "z^T K z \\ge 0\n",
    "$$"
   ]
  },
  {
   "cell_type": "code",
   "execution_count": null,
   "id": "9a5b14ca",
   "metadata": {},
   "outputs": [],
   "source": []
  }
 ],
 "metadata": {
  "kernelspec": {
   "display_name": "Python 3",
   "language": "python",
   "name": "python3"
  },
  "language_info": {
   "codemirror_mode": {
    "name": "ipython",
    "version": 3
   },
   "file_extension": ".py",
   "mimetype": "text/x-python",
   "name": "python",
   "nbconvert_exporter": "python",
   "pygments_lexer": "ipython3",
   "version": "3.9.2"
  }
 },
 "nbformat": 4,
 "nbformat_minor": 5
}
