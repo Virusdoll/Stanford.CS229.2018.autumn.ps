{
 "cells": [
  {
   "cell_type": "markdown",
   "id": "31bb7f26",
   "metadata": {},
   "source": [
    "### (a)"
   ]
  },
  {
   "cell_type": "markdown",
   "id": "fcf7cd80",
   "metadata": {},
   "source": [
    "In logistic regression, we have:\n",
    "\\begin{align*}\n",
    "h_\\theta(x) & = \\frac {1} {1 + e^{-\\theta^Tx}} \\\\\n",
    "L(\\theta) & = \\prod^m_{i=1} \\big( h_\\theta (x^{(i)}) \\big) ^{y^{(i)}} \\big(1 - h_\\theta(x^{(i)}) \\big) ^{1-y^{(i)}} \\\\\n",
    "\\ell(\\theta) & = \\sum^m_{i=1} y^{(i)} \\log h(x^{(i)}) + (1 - y^{(i)}) \\log (1 - h(x^{(i)})) \\\\\n",
    "\\frac {\\partial} {\\partial \\theta_j} \\ell(\\theta) & = \\sum^m_{i=1} (y - h_\\theta(x))x_j\n",
    "\\end{align*}\n",
    "\n",
    "because $ \\theta $ is the maximum likelihood parameters learned, so\n",
    "\\begin{align*}\n",
    "\\frac {\\partial} {\\partial \\theta_j} \\ell(\\theta) & = 0 \\\\\n",
    "\\frac {\\partial} {\\partial \\theta_0} \\ell(\\theta) & = 0 \\\\\n",
    "\\sum^m_{i=1} (y - h_\\theta(x))x_0 & = 0 \\\\\n",
    "\\sum^m_{i=1} (y - h_\\theta(x)) & = 0 \\\\\n",
    "\\sum^m_{i=1} h_\\theta(x) & = \\sum^m_{i=1} y\n",
    "\\end{align*}\n",
    "\n",
    "let $ (a, b) = (0, 1) $, then\n",
    "$$ I_{a, b} = \\{ i | i \\in \\{ 1, \\dots, m \\} \\} = \\{ 1, \\dots, m \\} $$\n",
    "\n",
    "finally,\n",
    "\\begin{align*}\n",
    "\\sum^m_{i=1} h_\\theta(x) & = \\sum^m_{i=1} y \\\\\n",
    "\\Sigma_{i \\in I_{a, b}} h_\\theta(x) & = \\Sigma_{i \\in I_{a, b}} y \\\\\n",
    "\\frac {\\Sigma_{i \\in I_{a, b}} h_\\theta(x)} {| \\{ i \\in I_{a, b} \\} |} & = \\frac {\\Sigma_{i \\in I_{a, b}} y} {| \\{ i \\in I_{a, b} \\} |} \\\\\n",
    "\\frac {\\Sigma_{i \\in I_{a, b}} P(y^{(i)} = 1 | x^{(i)}; \\theta)} {| \\{ i \\in I_{a, b} \\} |} & = \\frac {\\Sigma_{i \\in I_{a, b}} \\mathbb{I} \\{ y^{(i)} = 1 \\} } {| \\{ i \\in I_{a, b} \\} |} \\\\\n",
    "\\end{align*}"
   ]
  },
  {
   "cell_type": "markdown",
   "id": "3648612c",
   "metadata": {},
   "source": [
    "### (b)"
   ]
  },
  {
   "cell_type": "code",
   "execution_count": null,
   "id": "e4cba47b",
   "metadata": {},
   "outputs": [],
   "source": []
  }
 ],
 "metadata": {
  "kernelspec": {
   "display_name": "Python 3",
   "language": "python",
   "name": "python3"
  },
  "language_info": {
   "codemirror_mode": {
    "name": "ipython",
    "version": 3
   },
   "file_extension": ".py",
   "mimetype": "text/x-python",
   "name": "python",
   "nbconvert_exporter": "python",
   "pygments_lexer": "ipython3",
   "version": "3.9.2"
  }
 },
 "nbformat": 4,
 "nbformat_minor": 5
}
