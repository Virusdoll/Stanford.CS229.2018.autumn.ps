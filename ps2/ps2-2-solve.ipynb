{
 "cells": [
  {
   "cell_type": "markdown",
   "id": "31bb7f26",
   "metadata": {},
   "source": [
    "# (a)"
   ]
  },
  {
   "cell_type": "markdown",
   "id": "fcf7cd80",
   "metadata": {},
   "source": [
    "In logistic regression, we have:\n",
    "\n",
    "\\begin{align*}\n",
    "h_\\theta(x) & = \\frac {1} {1 + e^{-\\theta^Tx}} \\\\\n",
    "L(\\theta) & = \\prod^m_{i=1} \\big( h_\\theta (x^{(i)}) \\big) ^{y^{(i)}} \\big(1 - h_\\theta(x^{(i)}) \\big) ^{1-y^{(i)}} \\\\\n",
    "\\ell(\\theta) & = \\sum^m_{i=1} y^{(i)} \\log h(x^{(i)}) + (1 - y^{(i)}) \\log (1 - h(x^{(i)})) \\\\\n",
    "\\frac {\\partial} {\\partial \\theta_j} \\ell(\\theta) & = \\sum^m_{i=1} (y^{(i)} - h_\\theta(x^{(i)}))x^{(i)}_j\n",
    "\\end{align*}\n",
    "\n",
    "because $\\theta$ is the maximum likelihood parameters learned, so\n",
    "\n",
    "\\begin{align*}\n",
    "\\frac {\\partial} {\\partial \\theta_j} \\ell(\\theta) & = 0 \\\\\n",
    "\\frac {\\partial} {\\partial \\theta_0} \\ell(\\theta) & = 0 \\\\\n",
    "\\sum^m_{i=1} (y^{(i)} - h_\\theta(x^{(i)}))x_0^{(i)} & = 0 \\\\\n",
    "\\sum^m_{i=1} (y^{(i)} - h_\\theta(x^{(i)})) & = 0 \\\\\n",
    "\\sum^m_{i=1} h_\\theta(x^{(i)}) & = \\sum^m_{i=1} y^{(i)}\n",
    "\\end{align*}\n",
    "\n",
    "let $(a, b) = (0, 1)$, then\n",
    "\n",
    "$$ I_{a, b} = \\{ i | i \\in \\{ 1, \\dots, m \\} \\} = \\{ 1, \\dots, m \\} $$\n",
    "\n",
    "finally,\n",
    "\n",
    "\\begin{align*}\n",
    "\\sum^m_{i=1} h_\\theta(x^{(i)}) & = \\sum^m_{i=1} y^{(i)} \\\\\n",
    "\\Sigma_{i \\in I_{a, b}} h_\\theta(x^{(i)}) & = \\Sigma_{i \\in I_{a, b}} y^{(i)} \\\\\n",
    "\\frac {\\Sigma_{i \\in I_{a, b}} h_\\theta(x^{(i)})} {| \\{ i \\in I_{a, b} \\} |} & = \\frac {\\Sigma_{i \\in I_{a, b}} y^{(i)}} {| \\{ i \\in I_{a, b} \\} |} \\\\\n",
    "\\frac {\\Sigma_{i \\in I_{a, b}} P(y^{(i)} = 1 | x^{(i)}; \\theta)} {| \\{ i \\in I_{a, b} \\} |} & = \\frac {\\Sigma_{i \\in I_{a, b}} \\mathbb{I} \\{ y^{(i)} = 1 \\} } {| \\{ i \\in I_{a, b} \\} |} \\\\\n",
    "\\end{align*}"
   ]
  },
  {
   "cell_type": "markdown",
   "id": "3648612c",
   "metadata": {},
   "source": [
    "# (b)"
   ]
  },
  {
   "cell_type": "markdown",
   "id": "91318efc",
   "metadata": {},
   "source": [
    "No.\n",
    "\n",
    "for example, let\n",
    "\n",
    "\\begin{align*}\n",
    "h_\\theta(x^{(1)}) & = \\frac {1} {2}, y^{(1)} = 1 \\\\\n",
    "h_\\theta(x^{(2)}) & = \\frac {1} {2}, y^{(2)} = 0 \\\\\n",
    "h_\\theta(x^{(i)}) & = y^{(i)} \\ \\text{for} \\ i \\in \\{ 3, \\dots, m \\}\n",
    "\\end{align*}\n",
    "\n",
    "then, for any $(a, b) \\subset [0, 1]$, we still have\n",
    "\n",
    "$$ \\Sigma_{i \\in I_{a, b}} h_\\theta(x^{(i)}) = \\Sigma_{i \\in I_{a, b}} y^{(i)} $$\n",
    "\n",
    "But, obviously, our model dosen't achieve perfect accuracy.\n",
    "\n",
    "No.\n",
    "\n",
    "model has perfect accuracy means\n",
    "\n",
    "$$ 1 > h_\\theta(x^{(i)}) > \\frac {1} {2} \\ \\text{for} \\ i \\in \\{ i | i \\in \\{ 1, \\dots, m \\}, y^{(i)} = 1 \\} $$\n",
    "\n",
    "let $(a, b) = (0.5, 1]$, then\n",
    "\n",
    "$$ \\Sigma_{i \\in I_{a, b}} y^{(i)} = 1 > \\Sigma_{i \\in I_{a, b}} h_\\theta(x^{(i)}) $$\n",
    "\n",
    "Obviously our model isn't perfectly calibrated."
   ]
  },
  {
   "cell_type": "markdown",
   "id": "58db8b25",
   "metadata": {},
   "source": [
    "# (c)"
   ]
  },
  {
   "cell_type": "markdown",
   "id": "376b77f9",
   "metadata": {},
   "source": [
    "we want to maximize log-likelihood $\\ell(\\theta)$\n",
    "\n",
    "$$ \\ell(\\theta) = \\sum^m_{i=1} y^{(i)} \\log h(x^{(i)}) + (1 - y^{(i)}) \\log (1 - h(x^{(i)})) \\\\ $$\n",
    "\n",
    "it means we want to minimize loss $J$\n",
    "\n",
    "$$ J = - \\ell(\\theta) $$\n",
    "\n",
    "including $ L_2 $ regularization in our loss$ J_{L2}$\n",
    "\n",
    "$$\n",
    "J_{L2} = J + \\frac {1} {2} \\lambda \\| \\theta \\| ^2_2 = - \\ell(\\theta) + \\frac {1} {2} \\lambda \\| \\theta \\| ^2_2\n",
    "$$\n",
    "\n",
    "let\n",
    "\n",
    "\\begin{align*}\n",
    "\\frac {\\partial} {\\partial \\theta_0} J_{L2} & = 0 \\\\\n",
    "\\frac {\\partial} {\\partial \\theta_0} \\big( - \\ell(\\theta) + \\frac {1} {2} \\lambda \\| \\theta \\| ^2_2 \\big) & = 0 \\\\\n",
    "\\lambda \\theta_0 - \\sum^m_{i=1} (y^{(i)} - h_\\theta(x^{(i)})) & = 0 \\\\\n",
    "\\lambda \\theta_0 + \\sum^m_{i=1} h_\\theta(x^{(i)}) & = \\sum^m_{i=1} y^{(i)}\n",
    "\\end{align*}\n",
    "\n",
    "if $\\theta \\ne 0$, then property not hold."
   ]
  },
  {
   "cell_type": "code",
   "execution_count": null,
   "id": "6274420d",
   "metadata": {},
   "outputs": [],
   "source": []
  }
 ],
 "metadata": {
  "kernelspec": {
   "display_name": "Python 3",
   "language": "python",
   "name": "python3"
  },
  "language_info": {
   "codemirror_mode": {
    "name": "ipython",
    "version": 3
   },
   "file_extension": ".py",
   "mimetype": "text/x-python",
   "name": "python",
   "nbconvert_exporter": "python",
   "pygments_lexer": "ipython3",
   "version": "3.9.2"
  }
 },
 "nbformat": 4,
 "nbformat_minor": 5
}
