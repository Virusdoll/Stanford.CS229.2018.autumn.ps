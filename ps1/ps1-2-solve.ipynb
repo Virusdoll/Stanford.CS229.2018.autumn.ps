{
 "cells": [
  {
   "cell_type": "markdown",
   "id": "a6368625",
   "metadata": {},
   "source": [
    "### (a)"
   ]
  },
  {
   "cell_type": "markdown",
   "id": "d4a0ce77",
   "metadata": {},
   "source": [
    "\\begin{align*}\n",
    "p(y^{(i)}=1 \\vert x^{(i)}) = & \\ p(y^{(i)}=1, t^{(i)}=1 \\vert x^{(i)}) + p(y^{(i)}=1, t^{(i)}=0 \\vert x^{(i)}) \\\\\n",
    "= & \\ p(y^{(i)}=1 \\vert t^{(i)}=1, x^{(i)}) p(t^{(i)}=1 \\vert x^{(i)}) \\\\\n",
    "& + p(y^{(i)}=1 \\vert t^{(i)}=0, x^{(i)}) p (t^{(i)}=0 \\vert x^{(i)}) \\\\\n",
    "= & \\ p(y^{(i)}=1 \\vert t^{(i)}=1) p(t^{(i)}=1 \\vert x^{(i)}) + 0 \\\\\n",
    "= & \\ \\alpha \\ p(t^{(i)}=1 \\vert x^{(i)})\n",
    "\\end{align*}\n",
    "\n",
    "so,\n",
    "\n",
    "\\begin{align*}\n",
    "p(t^{(i)}=1 \\vert x^{(i)}) = \\frac {1} {\\alpha} p(y^{(i)}=1 \\vert x^{(i)}) \\\\\n",
    "\\alpha = p(y^{(i)}=1 \\vert t^{(i)}=1)\n",
    "\\end{align*}"
   ]
  },
  {
   "cell_type": "markdown",
   "id": "36f202fd",
   "metadata": {},
   "source": [
    "### (b)"
   ]
  },
  {
   "cell_type": "markdown",
   "id": "f69b9cb6",
   "metadata": {},
   "source": [
    "assume:\n",
    "\n",
    "\\begin{align*}\n",
    "h(x^{(i)}) \\approx & \\ p(y^{(i)} = 1 \\vert x^{(i)}) \\\\\n",
    "p(t^{(i)} = 1 \\vert x^{(i)}) \\approx & \\ 1 \\quad \\textrm{when} \\ x^{(i)} \\in V_+\n",
    "\\end{align*}\n",
    "\n",
    "then,\n",
    "\n",
    "\\begin{align*}\n",
    "h(x^{(i)}) \\approx & \\ p(y^{(i)} = 1 \\vert x^{(i)}) \\quad \\textrm{for all} \\ x^{(i)} \\\\\n",
    "= & \\ p(y^{(i)} = 1, t^{(i)} = 1 \\vert x^{(i)}) + p(y^{(i)} = 1, t^{(i)} = 0 \\vert x^{(i)}) \\\\\n",
    "= & \\ p(y^{(i)} = 1, t^{(i)} = 1 \\vert x^{(i)}) + 0 \\\\\n",
    "= & \\ p(y^{(i)} = 1 \\vert t^{(i)} = 1, x^{(i)}) p(t^{(i)} = 1 \\vert x^{(i)}) \\quad \\textrm{for all} \\ x^{(i)} \\in V_+ \\\\\n",
    "\\approx & \\ p(y^{(i)} = 1 \\vert t^{(i)} = 1) \\quad \\textrm{for all} \\ x^{(i)} \\in V_+ \\\\\n",
    "= & \\ \\alpha \\quad \\textrm{for all} \\ x^{(i)} \\in V_+\n",
    "\\end{align*}"
   ]
  },
  {
   "cell_type": "markdown",
   "id": "88131943",
   "metadata": {},
   "source": [
    "### (c)"
   ]
  },
  {
   "cell_type": "code",
   "execution_count": 1,
   "id": "30b4d5b9",
   "metadata": {},
   "outputs": [],
   "source": [
    "import numpy as np\n",
    "import src.util as util\n",
    "from src.p01b_logreg import LogisticRegression"
   ]
  },
  {
   "cell_type": "code",
   "execution_count": 2,
   "id": "62264dad",
   "metadata": {},
   "outputs": [],
   "source": [
    "ds3_train_path = './data/ds3_train.csv'\n",
    "ds3_valid_path = './data/ds3_valid.csv'\n",
    "ds3_test_path  = './data/ds3_test.csv'"
   ]
  },
  {
   "cell_type": "code",
   "execution_count": 3,
   "id": "d39c016c",
   "metadata": {},
   "outputs": [],
   "source": [
    "# use true label 't'\n",
    "ds3_train_x_ai, ds3_train_t_ai = util.load_dataset(\n",
    "    ds3_train_path, label_col='t', add_intercept=True\n",
    ")\n",
    "ds3_valid_x_ai, ds3_valid_t_ai = util.load_dataset(\n",
    "    ds3_valid_path, label_col='t', add_intercept=True\n",
    ")\n",
    "ds3_test_x_ai, ds3_test_t_ai = util.load_dataset(\n",
    "    ds3_test_path, label_col='t', add_intercept=True\n",
    ")"
   ]
  },
  {
   "cell_type": "code",
   "execution_count": 4,
   "id": "a74668fc",
   "metadata": {},
   "outputs": [],
   "source": [
    "clf_c = LogisticRegression() # reuse it\n",
    "clf_c.fit(ds3_train_x_ai, ds3_train_t_ai)"
   ]
  },
  {
   "cell_type": "code",
   "execution_count": 5,
   "id": "8019f673",
   "metadata": {},
   "outputs": [
    {
     "name": "stdout",
     "output_type": "stream",
     "text": [
      "ds3: test, accuracy: 0.9838709677419355\n"
     ]
    },
    {
     "data": {
      "image/png": "[encoded data removed]",
      "text/plain": [
       "<Figure size 432x288 with 1 Axes>"
      ]
     },
     "metadata": {
      "needs_background": "light"
     },
     "output_type": "display_data"
    }
   ],
   "source": [
    "print('ds3: test, accuracy: {}'.format(\n",
    "    np.mean(clf_c.predict(ds3_test_x_ai) == ds3_test_t_ai)\n",
    "))\n",
    "util.plot(ds3_test_x_ai, ds3_test_t_ai, clf_c.theta)"
   ]
  },
  {
   "cell_type": "markdown",
   "id": "1fc06258",
   "metadata": {},
   "source": [
    "### (d)"
   ]
  },
  {
   "cell_type": "code",
   "execution_count": 6,
   "id": "a5905101",
   "metadata": {},
   "outputs": [],
   "source": [
    "# use y label 'y'\n",
    "ds3_train_x_ai, ds3_train_y_ai = util.load_dataset(\n",
    "    ds3_train_path, label_col='y', add_intercept=True\n",
    ")\n",
    "ds3_valid_x_ai, ds3_valid_y_ai = util.load_dataset(\n",
    "    ds3_valid_path, label_col='y', add_intercept=True\n",
    ")\n",
    "ds3_test_x_ai, ds3_test_y_ai = util.load_dataset(\n",
    "    ds3_test_path, label_col='y', add_intercept=True\n",
    ")"
   ]
  },
  {
   "cell_type": "code",
   "execution_count": 7,
   "id": "bf080460",
   "metadata": {},
   "outputs": [],
   "source": [
    "clf_d = LogisticRegression() # reuse it\n",
    "clf_d.fit(ds3_train_x_ai, ds3_train_y_ai)"
   ]
  },
  {
   "cell_type": "code",
   "execution_count": 8,
   "id": "20ebec5c",
   "metadata": {},
   "outputs": [
    {
     "name": "stdout",
     "output_type": "stream",
     "text": [
      "ds3: test, accuracy: 0.8870967741935484\n"
     ]
    },
    {
     "data": {
      "image/png": "[encoded data removed]",
      "text/plain": [
       "<Figure size 432x288 with 1 Axes>"
      ]
     },
     "metadata": {
      "needs_background": "light"
     },
     "output_type": "display_data"
    }
   ],
   "source": [
    "print('ds3: test, accuracy: {}'.format(\n",
    "    np.mean(clf_d.predict(ds3_test_x_ai) == ds3_test_y_ai)\n",
    "))\n",
    "util.plot(ds3_test_x_ai, ds3_test_y_ai, clf_d.theta)"
   ]
  },
  {
   "cell_type": "markdown",
   "id": "86dcc5de",
   "metadata": {},
   "source": [
    "still has high accuracy, but obviously model is not what we want."
   ]
  },
  {
   "cell_type": "code",
   "execution_count": 9,
   "id": "d240d28f",
   "metadata": {},
   "outputs": [
    {
     "name": "stdout",
     "output_type": "stream",
     "text": [
      "ds3: test, accuracy: 0.5\n"
     ]
    },
    {
     "data": {
      "image/png": "[encoded data removed]",
      "text/plain": [
       "<Figure size 432x288 with 1 Axes>"
      ]
     },
     "metadata": {
      "needs_background": "light"
     },
     "output_type": "display_data"
    }
   ],
   "source": [
    "print('ds3: test, accuracy: {}'.format(\n",
    "    np.mean(clf_d.predict(ds3_test_x_ai) == ds3_test_t_ai)\n",
    "))\n",
    "util.plot(ds3_test_x_ai, ds3_test_t_ai, clf_d.theta)"
   ]
  },
  {
   "cell_type": "markdown",
   "id": "addd275b",
   "metadata": {},
   "source": [
    "use true label to plot can show that."
   ]
  },
  {
   "cell_type": "markdown",
   "id": "e7a1eb50",
   "metadata": {},
   "source": [
    "### (e)"
   ]
  },
  {
   "cell_type": "markdown",
   "id": "a33470b9",
   "metadata": {},
   "source": [
    "\\begin{align*}\n",
    "p(t^{(i)}=1 \\vert x^{(i)}) = & \\ \\frac {1} {\\alpha} p(y^{(i)}=1 \\vert x^{(i)}) \\quad \\textrm{from problem (a)} \\\\\n",
    "\\approx & \\ \\frac {1} {\\frac {1} {\\vert V_+ \\vert} \\Sigma_{x^{(i)} \\in V_+} h(x^{(i)}) } \\ p(y^{(i)}=1 \\vert x^{(i)})\n",
    "\\end{align*}"
   ]
  },
  {
   "cell_type": "code",
   "execution_count": 10,
   "id": "0013a477",
   "metadata": {},
   "outputs": [],
   "source": [
    "# from p01b_logreg, reuse it.\n",
    "def hypothesis(theta, x):\n",
    "    return 1 / (1 + np.exp(- np.dot(x, theta)))"
   ]
  },
  {
   "cell_type": "code",
   "execution_count": 11,
   "id": "851fb79b",
   "metadata": {},
   "outputs": [],
   "source": [
    "alpha = np.mean(hypothesis(clf_d.theta, ds3_valid_x_ai))"
   ]
  },
  {
   "cell_type": "markdown",
   "id": "b7dc632c",
   "metadata": {},
   "source": [
    "we want a new $ \\theta^\\prime $ that:\n",
    "\\begin{align*}\n",
    "\\frac {1} {1 + e^{- (\\theta^\\prime)^T x}} = & \\ \\frac {1} {2} \\\\\n",
    "(\\theta^\\prime)^T x = & \\ 0\n",
    "\\end{align*}\n",
    "\n",
    "and for old $ \\theta $:\n",
    "\n",
    "\\begin{align*}\n",
    "\\frac {1} {\\alpha} \\frac {1} {1 + e^{-\\theta^T x}} = & \\ \\frac {1} {2} \\\\\n",
    "e^{- \\theta^Tx} = & \\ \\frac {2} {\\alpha} - 1 \\\\\n",
    "0 = & \\ \\theta^T x + \\log ( \\frac {2} {\\alpha} - 1)\n",
    "\\end{align*}\n",
    "\n",
    "so,\n",
    "\n",
    "\\begin{align*}\n",
    "(\\theta^\\prime)^T x = & \\ \\theta^T x + \\log ( \\frac {2} {\\alpha} - 1) \\\\\n",
    "\\theta^\\prime = & \\theta + \\log ( \\frac {2} {\\alpha} - 1) \\begin{bmatrix} 1 \\\\ 0 \\\\ 0 \\end{bmatrix}\n",
    "\\end{align*}"
   ]
  },
  {
   "cell_type": "code",
   "execution_count": 12,
   "id": "b885ae13",
   "metadata": {},
   "outputs": [],
   "source": [
    "theta_prime = clf_d.theta + np.log(2 / alpha -1) * np.array([1, 0, 0])"
   ]
  },
  {
   "cell_type": "code",
   "execution_count": 13,
   "id": "f115d7bb",
   "metadata": {},
   "outputs": [
    {
     "name": "stdout",
     "output_type": "stream",
     "text": [
      "ds3: test, accuracy: 0.9274193548387096\n"
     ]
    },
    {
     "data": {
      "image/png": "[encoded data removed]",
      "text/plain": [
       "<Figure size 432x288 with 1 Axes>"
      ]
     },
     "metadata": {
      "needs_background": "light"
     },
     "output_type": "display_data"
    }
   ],
   "source": [
    "print('ds3: test, accuracy: {}'.format(\n",
    "    np.mean(\n",
    "        (1 / alpha * hypothesis(clf_d.theta, ds3_valid_x_ai) >= 0.5)\n",
    "            == ds3_test_t_ai\n",
    "    )\n",
    "))\n",
    "util.plot(ds3_test_x_ai, ds3_test_t_ai, theta_prime)"
   ]
  },
  {
   "cell_type": "code",
   "execution_count": null,
   "id": "62978957",
   "metadata": {},
   "outputs": [],
   "source": []
  }
 ],
 "metadata": {
  "kernelspec": {
   "display_name": "Python 3",
   "language": "python",
   "name": "python3"
  },
  "language_info": {
   "codemirror_mode": {
    "name": "ipython",
    "version": 3
   },
   "file_extension": ".py",
   "mimetype": "text/x-python",
   "name": "python",
   "nbconvert_exporter": "python",
   "pygments_lexer": "ipython3",
   "version": "3.9.2"
  }
 },
 "nbformat": 4,
 "nbformat_minor": 5
}
