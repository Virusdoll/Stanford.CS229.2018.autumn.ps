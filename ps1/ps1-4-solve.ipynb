{
 "cells": [
  {
   "cell_type": "markdown",
   "id": "60f1177e",
   "metadata": {},
   "source": [
    "### (a)"
   ]
  },
  {
   "cell_type": "markdown",
   "id": "e9da6d8c",
   "metadata": {},
   "source": [
    "\\begin{align*}\n",
    "\\frac {\\partial} {\\partial \\eta} \\int p(y; \\eta) \\ dy = & \\ \\int \\frac {\\partial} {\\partial \\eta} p(y; \\eta) \\ dy \\\\\n",
    "= & \\ \\int \\frac {\\partial} {\\partial \\eta} b(y) \\exp (\\eta y - \\alpha(\\eta)) \\ dy \\\\\n",
    "= & \\ \\int b(y) \\exp (\\eta y - \\alpha(\\eta)) (y - \\frac {\\partial} {\\partial \\eta} \\alpha(\\eta)) \\ dy \\\\\n",
    "= & \\ \\int b(y) \\exp(\\eta y - \\alpha(\\eta)) y \\ dy - \\int b(y) \\exp(\\eta y - \\alpha(\\eta)) \\frac {\\partial} {\\partial \\eta} \\alpha(\\eta) \\ dy \\\\\n",
    "= & \\ \\int y p(y; \\eta) dy - \\int p(y; \\eta) \\frac {\\partial} {\\partial \\eta} \\alpha(\\eta) \\ dy \\\\\n",
    "\\int y p(y; \\eta) dy = & \\ \\frac {\\partial} {\\partial \\eta} \\int p(y; \\eta) \\ dy + \\frac {\\partial} {\\partial \\eta} \\alpha(\\eta) \\int p(y; \\eta) \\ dy \\\\\n",
    "\\end{align*}\n",
    "\n",
    "for the mean of the distribution:\n",
    "\\begin{align*}\n",
    "E[Y \\vert X; \\theta] = & \\ \\int y p(y; \\eta) dy \\\\\n",
    "= & \\ \\frac {\\partial} {\\partial \\eta} \\int p(y; \\eta) \\ dy + \\frac {\\partial} {\\partial \\eta} \\alpha(\\eta) \\int p(y; \\eta) \\ dy \\\\\n",
    "= & \\ \\frac {\\partial} {\\partial \\eta} \\cdot 1 + \\frac {\\partial} {\\partial \\eta} \\alpha(\\eta) \\cdot 1 \\\\\n",
    "= & \\ \\frac {\\partial} {\\partial \\eta} \\alpha(\\eta)\n",
    "\\end{align*}"
   ]
  },
  {
   "cell_type": "markdown",
   "id": "23ced9a6",
   "metadata": {},
   "source": [
    "### (b)"
   ]
  },
  {
   "cell_type": "markdown",
   "id": "c0c2b4a1",
   "metadata": {},
   "source": [
    "\\begin{align*}\n",
    "\\frac {\\partial} {\\partial \\eta} \\int y p(y; \\eta) \\ dy = & \\ \\int \\frac {\\partial} {\\partial \\eta} ( y p(y; \\eta) ) \\ dy \\\\\n",
    "= & \\ \\int \\frac {\\partial} {\\partial \\eta} y b(y) \\exp (\\eta y - \\alpha(\\eta)) \\ dy \\\\\n",
    "= & \\ \\int y b(y) \\exp (\\eta y - \\alpha(\\eta)) (y - \\frac {\\partial} {\\partial \\eta} \\alpha(\\eta)) \\ dy \\\\\n",
    "= & \\ \\int b(y) \\exp(\\eta y - \\alpha(\\eta)) y^2 \\ dy - \\int y b(y) \\exp(\\eta y - \\alpha(\\eta)) \\frac {\\partial} {\\partial \\eta} \\alpha(\\eta) \\ dy \\\\\n",
    "= & \\ \\int y^2 p(y; \\eta) dy - \\int y p(y; \\eta) \\frac {\\partial} {\\partial \\eta} \\alpha(\\eta) \\ dy \\\\\n",
    "\\int y^2 p(y; \\eta) dy = & \\ \\frac {\\partial} {\\partial \\eta} \\int y p(y; \\eta) \\ dy + \\frac {\\partial} {\\partial \\eta} \\alpha(\\eta) \\int y p(y; \\eta) \\ dy \\\\\n",
    "\\end{align*}\n",
    "\n",
    "so,\n",
    "\\begin{align*}\n",
    "E[Y^2 \\vert X; \\theta] = & \\ \\int y^2 p(y; \\eta) dy \\\\\n",
    "= & \\ \\frac {\\partial} {\\partial \\eta} \\int y p(y; \\eta) \\ dy + \\frac {\\partial} {\\partial \\eta} \\alpha(\\eta) \\int y p(y; \\eta) \\ dy \\\\\n",
    "= & \\ \\frac {\\partial} {\\partial \\eta} E[Y \\vert X; \\theta] + \\frac {\\partial} {\\partial \\eta} \\alpha(\\eta) E[Y \\vert X; \\theta] \\\\\n",
    "= & \\ \\frac {\\partial} {\\partial \\eta} \\frac {\\partial} {\\partial \\eta} \\alpha(\\eta) + (\\frac {\\partial} {\\partial \\eta} \\alpha(\\eta))^2\n",
    "\\end{align*}\n",
    "\n",
    "then, for varianc:\n",
    "\\begin{align*}\n",
    "\\mathrm{Var}(Y \\vert X; \\theta) = & \\ E[Y^2 \\vert X; \\theta] - E[Y \\vert X; \\theta]^2 \\\\\n",
    "= & \\ \\frac {\\partial} {\\partial \\eta} \\frac {\\partial} {\\partial \\eta} \\alpha(\\eta) + (\\frac {\\partial} {\\partial \\eta} \\alpha(\\eta))^2 - (\\frac {\\partial} {\\partial \\eta} \\alpha(\\eta))^2 \\\\\n",
    "= & \\ \\frac {\\partial} {\\partial \\eta} \\frac {\\partial} {\\partial \\eta} \\alpha(\\eta)\n",
    "\\end{align*}"
   ]
  },
  {
   "cell_type": "markdown",
   "id": "f741b6ea",
   "metadata": {},
   "source": [
    "### (c)"
   ]
  },
  {
   "cell_type": "markdown",
   "id": "3dfc7823",
   "metadata": {},
   "source": [
    "for NLL:\n",
    "\\begin{align*}\n",
    "\\ell(\\theta) = & - \\log L(\\theta) \\\\\n",
    "= & \\ - \\log p(y; \\eta) \\\\\n",
    "= & \\ - \\log \\big( b(y) \\exp(\\eta y - \\alpha(\\eta)) \\big) \\\\\n",
    "= & \\ - \\big( \\log b(y) + \\eta y - \\alpha(\\eta) \\big) \\\\\n",
    "= & \\ - \\log b(u) - \\theta^Tx y + \\alpha(\\theta^T x)\n",
    "\\end{align*}\n",
    "\n",
    "for Hessian:\n",
    "\\begin{align*}\n",
    "H_{ij} = & \\ \\frac {\\partial} {\\partial \\theta_i} \\frac {\\partial} {\\partial \\theta_j} \\ell (\\theta) \\\\\n",
    "= & \\ \\frac {\\partial} {\\partial \\theta_i} \\frac {\\partial} {\\partial \\theta_j} \\alpha(\\theta^T x) \\\\\n",
    "= & \\ x_i x_j \\frac {\\partial} {\\partial \\theta^Tx} \\frac {\\partial} {\\partial \\theta^Tx} \\alpha(\\theta^T x) \\\\\n",
    "= & \\ x_i x_j \\frac {\\partial} {\\partial \\eta} \\frac {\\partial} {\\partial \\eta} \\alpha(\\eta) \\\\\n",
    "= & \\ x_i x_j \\mathrm{Var}[Y \\vert X; \\theta] \\\\\n",
    "H = & \\ x \\mathrm{Var}[Y \\vert X; \\theta] x^T\n",
    "\\end{align*}\n",
    "\n",
    "show Hseeian $ H $ is PSD:\n",
    "\\begin{align*}\n",
    "z^T H z = & \\ z^T x \\mathrm{Var}[Y \\vert X; \\theta] x^T z \\\\\n",
    "= & \\ (z^T x)^2 \\mathrm{Var}[Y \\vert X; \\theta] \\\\\n",
    "\\geq & \\ 0\n",
    "\\end{align*}"
   ]
  },
  {
   "cell_type": "code",
   "execution_count": null,
   "id": "4edb99b0",
   "metadata": {},
   "outputs": [],
   "source": []
  }
 ],
 "metadata": {
  "kernelspec": {
   "display_name": "Python 3",
   "language": "python",
   "name": "python3"
  },
  "language_info": {
   "codemirror_mode": {
    "name": "ipython",
    "version": 3
   },
   "file_extension": ".py",
   "mimetype": "text/x-python",
   "name": "python",
   "nbconvert_exporter": "python",
   "pygments_lexer": "ipython3",
   "version": "3.9.2"
  }
 },
 "nbformat": 4,
 "nbformat_minor": 5
}
